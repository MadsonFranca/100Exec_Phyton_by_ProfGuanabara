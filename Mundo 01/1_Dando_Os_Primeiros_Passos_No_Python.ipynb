{
  "metadata": {
    "language_info": {
      "codemirror_mode": {
        "name": "python",
        "version": 3
      },
      "file_extension": ".py",
      "mimetype": "text/x-python",
      "name": "python",
      "nbconvert_exporter": "python",
      "pygments_lexer": "ipython3",
      "version": "3.8"
    },
    "kernelspec": {
      "name": "python",
      "display_name": "Pyolite",
      "language": "python"
    }
  },
  "nbformat_minor": 4,
  "nbformat": 4,
  "cells": [
    {
      "cell_type": "markdown",
      "source": "# PYTHON",
      "metadata": {}
    },
    {
      "cell_type": "markdown",
      "source": "## MUNDO 01",
      "metadata": {}
    },
    {
      "cell_type": "markdown",
      "source": "Exercícios disponíveis na [Playlist Exercícios Python by Prof Gustavo Guanabara do Canal  Curso em Video](https://www.youtube.com/playlist?list=PLHz_AreHm4dm6wYOIW20Nyg12TAjmMGT-) , desenvolvidos por mim para aprendizado da Linguagem de Programação Python.",
      "metadata": {}
    },
    {
      "cell_type": "markdown",
      "source": "---------------------------------------------------------------------------------------------------------------------------------",
      "metadata": {}
    },
    {
      "cell_type": "markdown",
      "source": "### DANDO OS PRIMEIROS PASSOS NO PYTHON",
      "metadata": {
        "tags": []
      }
    },
    {
      "cell_type": "markdown",
      "source": "---------------------------------------------------------------------------------------------------------------------------------",
      "metadata": {}
    },
    {
      "cell_type": "markdown",
      "source": "#### Exercício 01: Hello World",
      "metadata": {}
    },
    {
      "cell_type": "markdown",
      "source": "**1. Crie um programa que escreva \"Olá, Mundo!\" na tela.**",
      "metadata": {}
    },
    {
      "cell_type": "markdown",
      "source": "---------------------------------------------------------------------------------------------------------------------------------\n",
      "metadata": {}
    },
    {
      "cell_type": "code",
      "source": "Cumprimento = str(\"Olá, Mundo!\")\n\nprint(f'{Cumprimento}')",
      "metadata": {},
      "execution_count": null,
      "outputs": []
    },
    {
      "cell_type": "markdown",
      "source": "#### Exercício 02: Respondendo ao Usuário",
      "metadata": {}
    },
    {
      "cell_type": "markdown",
      "source": "**2. Faça um programa que leia o nome de uma pessoa e mostre uma mensagem de boas-vindas.**",
      "metadata": {}
    },
    {
      "cell_type": "code",
      "source": "nome = input(str('Digite o seu nome: '))\n\nprint(f'É um prazer te conhecer, {nome}!')",
      "metadata": {},
      "execution_count": null,
      "outputs": []
    },
    {
      "cell_type": "markdown",
      "source": "---------------------------------------------------------------------------------------------------------------------------------",
      "metadata": {}
    }
  ]
}