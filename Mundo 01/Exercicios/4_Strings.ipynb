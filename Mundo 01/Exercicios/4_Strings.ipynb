{
  "metadata": {
    "language_info": {
      "codemirror_mode": {
        "name": "python",
        "version": 3
      },
      "file_extension": ".py",
      "mimetype": "text/x-python",
      "name": "python",
      "nbconvert_exporter": "python",
      "pygments_lexer": "ipython3",
      "version": "3.8"
    },
    "kernelspec": {
      "name": "python",
      "display_name": "Pyolite",
      "language": "python"
    }
  },
  "nbformat_minor": 4,
  "nbformat": 4,
  "cells": [
    {
      "cell_type": "markdown",
      "source": "# PYTHON",
      "metadata": {}
    },
    {
      "cell_type": "markdown",
      "source": "## MUNDO 01",
      "metadata": {}
    },
    {
      "cell_type": "markdown",
      "source": "Exercícios disponíveis na [Playlist Exercícios Python by Prof Gustavo Guanabara do Canal  Curso em Video](https://www.youtube.com/playlist?list=PLHz_AreHm4dm6wYOIW20Nyg12TAjmMGT-) , desenvolvidos por mim para aprendizado da Linguagem de Programação Python.",
      "metadata": {}
    },
    {
      "cell_type": "markdown",
      "source": "---------------------------------------------------------------------------------------------------------------------------------\n",
      "metadata": {}
    },
    {
      "cell_type": "markdown",
      "source": "### STRINGS",
      "metadata": {}
    },
    {
      "cell_type": "markdown",
      "source": "---------------------------------------------------------------------------------------------------------------------------------",
      "metadata": {}
    },
    {
      "cell_type": "markdown",
      "source": "#### Exercício  22: Analisador de Textos",
      "metadata": {}
    },
    {
      "cell_type": "markdown",
      "source": "**22. Crie um programa que leia o nome completo de uma pessoa e mostre:**\n- O nome com todas as letras maiúsculas e minúsculas.\n- Quantas letras ao todo (sem considerar os espaços).\n- Quantas letras tem o primeiro nome.",
      "metadata": {}
    },
    {
      "cell_type": "code",
      "source": "nome = str(input('Digite o seu nome completo: '))\nvar1 = len(nome) - nome.count(' ')\nvar2 = nome.find(' ')\n\nprint('Analisando o seu nome...')\nprint(f'Seu nome em maiúsculo é {nome.upper()}')\nprint(f'Seu nome em minúsculo é {nome.lower()}')\nprint(f'Seu nome tem ao todo {var1} letras')\nprint(f'Seu primeiro nome tem {var2} letras.')\n",
      "metadata": {},
      "execution_count": null,
      "outputs": []
    },
    {
      "cell_type": "markdown",
      "source": "---------------------------------------------------------------------------------------------------------------------------------",
      "metadata": {}
    },
    {
      "cell_type": "markdown",
      "source": "#### Exercício  23: Separando os Dígitos dos Números",
      "metadata": {}
    },
    {
      "cell_type": "markdown",
      "source": "**23. Faça um programa que leia um número de 0 a 9999 e mostre na tela cada um dos dígitos separados.**\n\n**Ex:**\n- Digite um número:\n- Unidade:\n- Dezena:\n- Centena:\n- Milhar:\n\n",
      "metadata": {}
    },
    {
      "cell_type": "code",
      "source": "num = int(input('Informe um número: '))\nunid = num // 1 % 10\ndez = num // 10 % 10\ncent = num // 100 % 10\nmil = num // 1000 % 10\n\nprint(f'Analisando o número {num} ')\nprint(f'Unidade: {unid}')\nprint(f'Dezena: {dez}')\nprint(f'Centena: {cent}')\nprint(f'Milhar: {mil}')",
      "metadata": {},
      "execution_count": null,
      "outputs": []
    },
    {
      "cell_type": "markdown",
      "source": "---------------------------------------------------------------------------------------------------------------------------------",
      "metadata": {}
    },
    {
      "cell_type": "markdown",
      "source": "#### Exercício  24: Verificando as Primeiras Letras de Um Texto",
      "metadata": {}
    },
    {
      "cell_type": "markdown",
      "source": "**24. Crie um programa que leia o nome de uma cidade e diga se ela começa ou não com o nome \"SANTO\".**\n\n",
      "metadata": {}
    },
    {
      "cell_type": "code",
      "source": "cidade = (input('Em que cidade você nasceu? ')).strip().upper()\nvar1 = 'SANTO' in cidade[:5]\n\nprint(f'{var1}')",
      "metadata": {},
      "execution_count": null,
      "outputs": []
    },
    {
      "cell_type": "markdown",
      "source": "---------------------------------------------------------------------------------------------------------------------------------",
      "metadata": {}
    },
    {
      "cell_type": "markdown",
      "source": "#### Exercício  25: Procurando Uma String Dentro De Outra",
      "metadata": {}
    },
    {
      "cell_type": "markdown",
      "source": "**25. Crie um programa que leia o nome de uma pessoa e diga se ela tem \"Silva\" no nome.**",
      "metadata": {}
    },
    {
      "cell_type": "code",
      "source": "nome = str(input('Qual é o seu nome completo? ')).strip().lower().split()\nvar1 = 'silva' in nome\n\nprint(f'Seu nome tem Silva? {var1}')",
      "metadata": {},
      "execution_count": null,
      "outputs": []
    },
    {
      "cell_type": "markdown",
      "source": "-----------------------------------------------------------------------------------------------------------------------------------------",
      "metadata": {}
    },
    {
      "cell_type": "markdown",
      "source": "#### Exercício  26: Primeira e Última Ocorrência De Uma String",
      "metadata": {}
    },
    {
      "cell_type": "markdown",
      "source": "**26. Faça um programa que leia uma frase pelo e teclado e mostre:**\n\n- Quantas vezes aparece a letra \"A\"\n- Em que posição ela aparece a primeira vez.\n- Em que posição ela aparece a última vez.\n",
      "metadata": {}
    },
    {
      "cell_type": "code",
      "source": "frase = str(input('Digite uma frase: ')).strip().upper()\nvar1 = frase.count('A')\nvar2 = frase.find(\"A\")+1\nvar3 = frase.rfind(\"A\")+1\n\nprint(f'A letra A aparece {var1} vezes na frase.')\nprint(f'A primeira letra A apareceu na posição {var2}')\nprint(f'A última letra A apareceu na posição {var3}')",
      "metadata": {},
      "execution_count": null,
      "outputs": []
    },
    {
      "cell_type": "markdown",
      "source": "-----------------------------------------------------------------------------------------------------------------------------------------",
      "metadata": {}
    },
    {
      "cell_type": "markdown",
      "source": "#### Exercício  27: Primeiro e Último Nome De Uma Pessoa",
      "metadata": {}
    },
    {
      "cell_type": "markdown",
      "source": "**27. Faça um programa que leia o nome completo de uma pessoa, mostrando em seguida o primeiro e o último nome separadamente.:**\n**Ex: **\n\n- Nome:\n- Primeiro:\n- Último: ",
      "metadata": {}
    },
    {
      "cell_type": "code",
      "source": "nome = str(input('Digite seu nome completo: ')).strip()\nvar1 = nome[:nome.find(' ')]\nvar2 = nome[nome.rfind(' '):]\n\nprint(f'Muito prazer em te conhecer, {var1}!')\nprint(f'Seu primeiro nome é {var1}')\nprint(f'Seu último nome é {var2}')",
      "metadata": {},
      "execution_count": null,
      "outputs": []
    },
    {
      "cell_type": "markdown",
      "source": "-----------------------------------------------------------------------------------------------------------------------------------------",
      "metadata": {}
    }
  ]
}