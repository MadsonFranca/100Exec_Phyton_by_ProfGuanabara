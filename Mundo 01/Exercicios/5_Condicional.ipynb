{
  "metadata": {
    "language_info": {
      "codemirror_mode": {
        "name": "python",
        "version": 3
      },
      "file_extension": ".py",
      "mimetype": "text/x-python",
      "name": "python",
      "nbconvert_exporter": "python",
      "pygments_lexer": "ipython3",
      "version": "3.8"
    },
    "kernelspec": {
      "name": "python",
      "display_name": "Pyolite",
      "language": "python"
    }
  },
  "nbformat_minor": 4,
  "nbformat": 4,
  "cells": [
    {
      "cell_type": "markdown",
      "source": "# PYTHON",
      "metadata": {}
    },
    {
      "cell_type": "markdown",
      "source": "## MUNDO 01",
      "metadata": {}
    },
    {
      "cell_type": "markdown",
      "source": "Exercícios disponíveis na [Playlist Exercícios Python by Prof Gustavo Guanabara do Canal  Curso em Video](https://www.youtube.com/playlist?list=PLHz_AreHm4dm6wYOIW20Nyg12TAjmMGT-) , desenvolvidos por mim para aprendizado da Linguagem de Programação Python.",
      "metadata": {}
    },
    {
      "cell_type": "markdown",
      "source": "---------------------------------------------------------------------------------------------------------------------------------",
      "metadata": {}
    },
    {
      "cell_type": "markdown",
      "source": "### CONDICIONAL",
      "metadata": {}
    },
    {
      "cell_type": "markdown",
      "source": "---------------------------------------------------------------------------------------------------------------------------------",
      "metadata": {}
    },
    {
      "cell_type": "markdown",
      "source": "#### Exercício  28: Jogo de Advinhação ",
      "metadata": {}
    },
    {
      "cell_type": "markdown",
      "source": "**28. Escreva um programa que faça o computador \"pensar\" em número inteiro entre 0 e 5 e peça para o usuário tentar descobrir qual foi o número escolhido pelo computador. O programa deverá escrever na tela se o usuário venceu ou perdeu.**",
      "metadata": {}
    },
    {
      "cell_type": "code",
      "source": "import random\n\nprint('-='*30)\nprint('Vou pensar em um número entre 0 e 5. Tente advinhar ...')\nprint('-='*30)\n\nfrom random import randint\nfrom time import sleep\n\nnum_usuario =  int(input('Em que número eu pensei? '))\nnum_sorteado = random.randint(0, 5)\n\nprint('PROCESSANDO ...')\nsleep(3)\n\nif num_usuario == num_sorteado:\n    print('PARABÉNS!!!! Você conseguiu me vencer!!!')\nelse:\n    print('ERRRRRRRROUUUUUUUUUUU!!!!!')\n    print(f'O número sorteado foi {num_sorteado}! Tente novamente :)')\n",
      "metadata": {},
      "execution_count": null,
      "outputs": []
    },
    {
      "cell_type": "markdown",
      "source": "------------------------------------------------------------------------------------------------------------------------------------------------------------------------------------------------------------------------------------------------------------------------------------------------------------------------------------------------------------------------------------------------------------------------------------------------------------------------------------------------------------------------------------",
      "metadata": {}
    },
    {
      "cell_type": "markdown",
      "source": "#### Exercício  29: Radar Eletrônico\n",
      "metadata": {}
    },
    {
      "cell_type": "markdown",
      "source": "**29. Escreva um programa que leia a velocidade de um carro. Se ele ultrapassar 80km/h , mostre uma mensagem dizendo que ele foi multdado.**\n- Obs: A multa vai custar R$7,00 por cada km acima do limite.",
      "metadata": {}
    },
    {
      "cell_type": "code",
      "source": "veloc = float(input('Qual é a velocidade atual do carro? '))\nveloc_max = 80\nmulta = 7\n\nif veloc <=veloc_max:\n    print('Tenha um Bom dia! Dirija com segurança!')\nelse:\n    print('MULTADO!!! Você excedeu o limite permitido que é de 60km/h.')\n    print(f'Você deve pagar uma multa de R${(veloc - veloc_max) * multa:.2f}')\n    print('Tenha um Bom Dia! Dirija com segurança!')",
      "metadata": {},
      "execution_count": null,
      "outputs": []
    },
    {
      "cell_type": "markdown",
      "source": "---------------------------------------------------------------------------------------------------------------------------------",
      "metadata": {}
    },
    {
      "cell_type": "markdown",
      "source": "#### Exercício  30: Par ou Ímpar",
      "metadata": {}
    },
    {
      "cell_type": "markdown",
      "source": "**30.  Crie um programa que leia um número inteiro e mostre na tela se ele é Par ou Ímpar.**",
      "metadata": {}
    },
    {
      "cell_type": "code",
      "source": "num = int(input('Me diga um número qualquer: '))\n\nif num %2 == 0:\n    print(f'O número {num} é PAR')\nelse:\n    print(f'O número {num} é ÍMPAR')",
      "metadata": {},
      "execution_count": null,
      "outputs": []
    },
    {
      "cell_type": "markdown",
      "source": "------------------------------------------------------------------------------------------------------------------------------------------------------------------------------------------------------------------------------------------------------------------------------------------------------------------------------------------------------------------------------------------------------------------------------------------------------------------------------------------------------------------------------------",
      "metadata": {}
    },
    {
      "cell_type": "markdown",
      "source": "#### Exercício  31: Custo da Viagem \n",
      "metadata": {}
    },
    {
      "cell_type": "markdown",
      "source": "**31. Desenvolva um programa que pergunta a distância de uma viagem em km. Calcule o preço da passagem, cobrando R$0.50 por Km para viagens de até 200 Km a RS0.45 para viagens mais longas.**",
      "metadata": {}
    },
    {
      "cell_type": "code",
      "source": "distance = float(input('Qual a distância da sua viagem? '))\n\nprint(f'Você está prestes a começar uma viagem de {distance:.2f}Km')\n\nif distance <= 200:\n    print(f'E o preço da sua passagem será de R${distance*0.50:.2f}')\nelse:\n    print(f'E o preço da sua passagem será de R${distance*0.45:.2f}')",
      "metadata": {},
      "execution_count": null,
      "outputs": []
    },
    {
      "cell_type": "markdown",
      "source": "------------------------------------------------------------------------------------------------------------------------------------------------------------------------------------------------------------------------------------------------------------------------------------------------------------------------------------------------------------------------------------------------------------------------------------------------------------------------------------------------------------------------------------",
      "metadata": {}
    },
    {
      "cell_type": "markdown",
      "source": "#### Exercício  32: Ano Bissexto",
      "metadata": {}
    },
    {
      "cell_type": "markdown",
      "source": "**32. Faça um programa que leia um ano qualquer e mostre se ele é BISSEXTO.**\n",
      "metadata": {}
    },
    {
      "cell_type": "code",
      "source": "ano = int(input('Que ano quer analisar? Coloque 0 para analisar o ano atual: '))\n\nif ano % 4 == 0 and ano % 100 != 0 or ano % 400 == 0:\n    print(f'O ano {ano} é BISSEXTO')\nelse:\n    print(f'O ano {ano} não é BISSEXTO')",
      "metadata": {},
      "execution_count": null,
      "outputs": []
    },
    {
      "cell_type": "markdown",
      "source": "------------------------------------------------------------------------------------------------------------------------------------------------------------------------------------------------------------------------------------------------------------------------------------------------------------------------------------------------------------------------------------------------------------------------------------------------------------------------------------------------------------------------------------",
      "metadata": {}
    },
    {
      "cell_type": "markdown",
      "source": "#### Exercício  33: Maior e Menor Valores",
      "metadata": {
        "tags": []
      }
    },
    {
      "cell_type": "markdown",
      "source": "**33. Faça um programa que leia três números e mostre qual é o maior e qual é o menor.**",
      "metadata": {}
    },
    {
      "cell_type": "code",
      "source": "num1 = int(input('Primeiro valor: '))\nnum2 = int(input('Segundo valor: '))\nnum3 = int(input('Terceiro valor: '))\nlista = [num1, num2, num3]\n\nprint(f'O menor valor digitado foi {min(lista)}')\nprint(f'O maior valor digitado foi {max(lista)}')",
      "metadata": {},
      "execution_count": null,
      "outputs": []
    },
    {
      "cell_type": "markdown",
      "source": "------------------------------------------------------------------------------------------------------------------------------------------------------------------------------------------------------------------------------------------------------------------------------------------------------------------------------------------------------------------------------------------------------------------------------------------------------------------------------------------------------------------------------------",
      "metadata": {}
    },
    {
      "cell_type": "markdown",
      "source": "#### Exercício  34: Aumentos Múltiplos",
      "metadata": {}
    },
    {
      "cell_type": "markdown",
      "source": "**34. Escreva um programa que pergunte o salário de um funcionário e calcule o valor do seu aumento. Para salários superiores a R$1250,00. Calcule um aumento de 10% Para inferiores ou iguais, o aumento é de 15%.**",
      "metadata": {}
    },
    {
      "cell_type": "code",
      "source": "salario = float(input('Qual é o salário do funcionário? R$'))\n\nif salario > 1250:\n    print(f'Quem ganhava R${salario:.2f} passa a ganhar R${salario + (salario*0.10):.2f} agora.')\nelse:\n    print(f'Quem ganhava R${salario:.2f} passa a ganhar R${salario + (salario * 0.15):.2f} agora.')",
      "metadata": {},
      "execution_count": null,
      "outputs": []
    },
    {
      "cell_type": "markdown",
      "source": "------------------------------------------------------------------------------------------------------------------------------------------------------------------------------------------------------------------------------------------------------------------------------------------------------------------------------------------------------------------------------------------------------------------------------------------------------------------------------------------------------------------------------------",
      "metadata": {}
    },
    {
      "cell_type": "markdown",
      "source": "#### Exercício 35: Analisando um Triângulo",
      "metadata": {}
    },
    {
      "cell_type": "markdown",
      "source": "**35. Desenvolva um programa que leia o comprimento de três retas e diga ao usuário se elas podem ou não formar um triângulo.**",
      "metadata": {}
    },
    {
      "cell_type": "code",
      "source": "print('-='*30)\nprint('Analisador de Triângulos')\nprint('-='*30)\n\nprimeiro = float(input('Primeiro segmento: '))\nsegundo = float(input('Segundo segmento: '))\nterceiro = float(input('Terceiro segmento: '))\n\nif primeiro < segundo + terceiro and segundo < primeiro + terceiro and terceiro < primeiro + segundo:\n    print('Os segmentos acima PODEM FORMAR um TRIÂNGULO!!!')\nelse:\n    print('Os segmentos acima NÃO PODEM FORMAR um TRIÂNGULO!!!')",
      "metadata": {},
      "execution_count": null,
      "outputs": []
    },
    {
      "cell_type": "markdown",
      "source": "------------------------------------------------------------------------------------------------------------------------------------------------------------------------------------------------------------------------------------------------------------------------------------------------------------------------------------------------------------------------------------------------------------------------------------------------------------------------------------------------------------------------------------",
      "metadata": {}
    },
    {
      "cell_type": "markdown",
      "source": "------------------------------------------------------------------------------------------------------------------------------------------------------------------------------------------------------------------------------------------------------------------------------------------------------------------------------------------------------------------------------------------------------------------------------------------------------------------------------------------------------------------------------------",
      "metadata": {}
    }
  ]
}