{
  "metadata": {
    "language_info": {
      "codemirror_mode": {
        "name": "python",
        "version": 3
      },
      "file_extension": ".py",
      "mimetype": "text/x-python",
      "name": "python",
      "nbconvert_exporter": "python",
      "pygments_lexer": "ipython3",
      "version": "3.8"
    },
    "kernelspec": {
      "name": "python",
      "display_name": "Pyolite",
      "language": "python"
    }
  },
  "nbformat_minor": 4,
  "nbformat": 4,
  "cells": [
    {
      "cell_type": "markdown",
      "source": "# PYTHON",
      "metadata": {}
    },
    {
      "cell_type": "markdown",
      "source": "## MUNDO 01\n",
      "metadata": {}
    },
    {
      "cell_type": "markdown",
      "source": "Exercícios disponíveis na [Playlist Exercícios Python by Prof Gustavo Guanabara do Canal  Curso em Video](https://www.youtube.com/playlist?list=PLHz_AreHm4dm6wYOIW20Nyg12TAjmMGT-) , desenvolvidos por mim para aprendizado da Linguagem de Programação Python.",
      "metadata": {}
    },
    {
      "cell_type": "markdown",
      "source": "---------------------------------------------------------------------------------------------------------------------------------\n",
      "metadata": {}
    },
    {
      "cell_type": "markdown",
      "source": "### OPERADORES ARITMÉTICOS",
      "metadata": {}
    },
    {
      "cell_type": "markdown",
      "source": "---------------------------------------------------------------------------------------------------------------------------------",
      "metadata": {}
    },
    {
      "cell_type": "markdown",
      "source": "#### Exercício  03: Somando 2 Números",
      "metadata": {}
    },
    {
      "cell_type": "markdown",
      "source": "**3. Crie um programa que leia dois números e mostre a soma entre ele.**",
      "metadata": {
        "tags": []
      }
    },
    {
      "cell_type": "code",
      "source": "x = int(input('Digite um valor: '))\ny = int(input('Digite outro valor: '))\nsoma = x + y\n\nprint(f'A soma entre {x} e {y} é igual a {soma}!')",
      "metadata": {},
      "execution_count": null,
      "outputs": []
    },
    {
      "cell_type": "markdown",
      "source": "---------------------------------------------------------------------------------------------------------------------------------",
      "metadata": {}
    },
    {
      "cell_type": "markdown",
      "source": "#### Exercício  04: Dissecando um Variável",
      "metadata": {}
    },
    {
      "cell_type": "markdown",
      "source": "**4. Faça um programa que leia algo pelo teclado e mostre na tela o seu tipo primitivo e todas as informações possivieis sobre ele.**",
      "metadata": {}
    },
    {
      "cell_type": "code",
      "source": "algo = input('Digite algo: ')\n\nprint(f'O tipo primitivo desse valor é {type(algo)}')\nprint(f'Só tem espaços? ', algo.isspace())\nprint(f'É um número? ', algo.isnumeric())\nprint(f'É alfabético? ', algo.isalpha())\nprint(f'Está em maiúsculo? ', algo.isupper())\nprint(f'Está em minúsculo? ', algo.islower())\nprint(f'Está capitalizado? ', algo.istitle())",
      "metadata": {},
      "execution_count": null,
      "outputs": []
    },
    {
      "cell_type": "markdown",
      "source": "---------------------------------------------------------------------------------------------------------------------------------",
      "metadata": {}
    },
    {
      "cell_type": "markdown",
      "source": "#### Exercício  05: Antecessor e Sucessor ",
      "metadata": {}
    },
    {
      "cell_type": "markdown",
      "source": "**5. Faça um programa que leia um número inteiro e mostre na tela o seu  sucessor e antecessor.**",
      "metadata": {}
    },
    {
      "cell_type": "code",
      "source": "valor = int(input('Digite um número: '))\n\nprint(f'Analisando o valor {valor}, seu antecessor é {valor - 1} e o sucessor é {valor + 1}.')",
      "metadata": {},
      "execution_count": null,
      "outputs": []
    },
    {
      "cell_type": "markdown",
      "source": "--------------------------------------------------------------------------------------------------------------------------------",
      "metadata": {}
    },
    {
      "cell_type": "markdown",
      "source": "#### Exercício 06: Dobro, Triplo e Raiz Quadrada",
      "metadata": {}
    },
    {
      "cell_type": "markdown",
      "source": "**6. Crie um algoritmo que leia um número e mostre o seu dobro, triplo e raiz quadrada.**",
      "metadata": {}
    },
    {
      "cell_type": "code",
      "source": "numero = int(input('Digite um número: '))\n\nprint(f'O dobro de {numero} vale {numero+numero}.')\nprint(f'O triplo de {numero} vale {numero+numero+numero}.')\nprint(f'A raiz quadrada de {numero} é igual a {numero**(0.5)}.')",
      "metadata": {},
      "execution_count": null,
      "outputs": []
    },
    {
      "cell_type": "markdown",
      "source": "---------------------------------------------------------------------------------------------------------------------------------",
      "metadata": {}
    },
    {
      "cell_type": "markdown",
      "source": "#### Exercício  07: Média Aritmética",
      "metadata": {}
    },
    {
      "cell_type": "markdown",
      "source": "**7. Desenvolva um programa que leia as duas notas de um aluno, calcule e mostre a sua média.**",
      "metadata": {}
    },
    {
      "cell_type": "code",
      "source": "nota1 = float(input('Primeira nota do aluno: '))\nnota2 = float(input('Segunda nota do aluno: '))\n\nprint(f'A média entre {nota1} e {nota2} é igual a {(nota1 + nota2)/2:.1f}!')",
      "metadata": {},
      "execution_count": null,
      "outputs": []
    },
    {
      "cell_type": "markdown",
      "source": "---------------------------------------------------------------------------------------------------------------------------------",
      "metadata": {}
    },
    {
      "cell_type": "markdown",
      "source": "#### Exercício  08: Conversor de Medidas",
      "metadata": {}
    },
    {
      "cell_type": "markdown",
      "source": "**8. Escreva um programa que leia um valor em metros e o exiba convertido em centímetros e milímetros.**",
      "metadata": {}
    },
    {
      "cell_type": "code",
      "source": "distancia = float(input('Uma distância em metros: '))\n\nprint(f'A medida de {distancia} corresponde a ')\nprint(f'{distancia/1000}km')\nprint(f'{distancia/100}hm')\nprint(f'{distancia/10}dam')\nprint(f'{distancia*10:.0f}dm')\nprint(f'{distancia*100:.0f}cm')\nprint(f'{distancia*1000:.0f}m')",
      "metadata": {},
      "execution_count": null,
      "outputs": []
    },
    {
      "cell_type": "markdown",
      "source": "---------------------------------------------------------------------------------------------------------------------------------",
      "metadata": {}
    },
    {
      "cell_type": "markdown",
      "source": "#### Exercício  09: Tabuada",
      "metadata": {}
    },
    {
      "cell_type": "markdown",
      "source": "**9. Faça um programa que leia um número inteiro qualquer e mostre na tela a sua tabuada.**",
      "metadata": {}
    },
    {
      "cell_type": "code",
      "source": "numero = int(input('Digite um número para ver sua tabuada: '))\n\nprint('_'*12)\nprint('{} x {:2} = {:2}'.format(numero, 1, numero*1))\nprint('{} x {:2} = {:2}'.format(numero, 2, numero*2))\nprint('{} x {:2} = {:2}'.format(numero, 3, numero*3))\nprint('{} x {:2} = {:2}'.format(numero, 4, numero*4))\nprint('{} x {:2} = {:2}'.format(numero, 5, numero*5))\nprint('{} x {:2} = {:2}'.format(numero, 6, numero*6))\nprint('{} x {:2} = {:2}'.format(numero, 7, numero*7))\nprint('{} x {:2} = {:2}'.format(numero, 8, numero*8))\nprint('{} x {:2} = {:2}'.format(numero, 9, numero*9))\nprint('{} x {:2} = {:2}'.format(numero, 10, numero*10))\nprint('_'*12)",
      "metadata": {},
      "execution_count": null,
      "outputs": []
    },
    {
      "cell_type": "markdown",
      "source": "---------------------------------------------------------------------------------------------------------------------------------",
      "metadata": {}
    },
    {
      "cell_type": "markdown",
      "source": "#### Exercício  10: Conversor de Moedas",
      "metadata": {}
    },
    {
      "cell_type": "markdown",
      "source": "**10. Crie um programa que leia quanto dinheiro uma pessoa tem na carteira e mostre quantos dólares ela pode comprar.**",
      "metadata": {}
    },
    {
      "cell_type": "code",
      "source": "dinheiro = float(input('Quanto dinheiro você tem na carteira? R$'))\ndolar = 5.16\n\nprint(f'Com R${dinheiro:.2f} você pode comprar US${dinheiro*dolar:.2f}!')",
      "metadata": {},
      "execution_count": null,
      "outputs": []
    },
    {
      "cell_type": "markdown",
      "source": "---------------------------------------------------------------------------------------------------------------------------------",
      "metadata": {}
    },
    {
      "cell_type": "markdown",
      "source": "#### Exercício  11: Pintando Parede",
      "metadata": {}
    },
    {
      "cell_type": "markdown",
      "source": "**11. Faça um programa que leia a largura e a altura de uma parede em metros, calcula-se a sua área e a quantidade de tinta necessária para pintá-la. Sabendo que cada litro de tinta pinta um área de 2m.**",
      "metadata": {}
    },
    {
      "cell_type": "code",
      "source": "largura = float(input('Largura da parede: '))\naltura = float(input('Altura da parede: '))\narea = largura*altura\nlitro = area/2\n\nprint(f'Sua parede tem a dimensão de {largura}x{altura} e sua área é de {largura*altura:.2f}m².')\nprint(f'Para pintar essa parede, você precisará de {litro}L de tinta.')",
      "metadata": {},
      "execution_count": null,
      "outputs": []
    },
    {
      "cell_type": "markdown",
      "source": "*Observação: A cada 2 metros quadrados é necessário 1 litro de tinta para pintar a parede.*",
      "metadata": {}
    },
    {
      "cell_type": "markdown",
      "source": "---------------------------------------------------------------------------------------------------------------------------------",
      "metadata": {}
    },
    {
      "cell_type": "markdown",
      "source": "#### Exercício 12: Calculando Desconto",
      "metadata": {}
    },
    {
      "cell_type": "markdown",
      "source": "**12. Faça um programa que leia a largura e a altura de uma parede em metros, calcula-se a sua área e a quantidade de tinta necessária para pintá-la. Sabendo que cada litro de tinta pinta um área de 2m.**",
      "metadata": {}
    },
    {
      "cell_type": "code",
      "source": "preco = float(input('Qual é o preço do produto? R$'))\n\nprint(f'O produto que custava R${preco}, na promoção com desconto de 5% vai custar R${preco - ((5*preco)/100):.2f}!')",
      "metadata": {},
      "execution_count": null,
      "outputs": []
    },
    {
      "cell_type": "markdown",
      "source": "---------------------------------------------------------------------------------------------------------------------------------",
      "metadata": {}
    },
    {
      "cell_type": "markdown",
      "source": "#### Exercício 13: Reajuste Salarial\n",
      "metadata": {}
    },
    {
      "cell_type": "markdown",
      "source": "**13. Faça um algoritmo que leia o salário de um funcionário e mostre seu novo salário com 15% de aumento.**",
      "metadata": {}
    },
    {
      "cell_type": "code",
      "source": "salario = float(input('Qual é o salário do Funcionário? R$'))\n\ninput(f'Um funcionário que ganhava R${salario} com 15% de aumento, passa a receber R${salario + ((salario*15)/100)}!')",
      "metadata": {},
      "execution_count": null,
      "outputs": []
    },
    {
      "cell_type": "markdown",
      "source": "---------------------------------------------------------------------------------------------------------------------------------",
      "metadata": {}
    },
    {
      "cell_type": "markdown",
      "source": "#### Exercício 14: Conversor de Temperaturas",
      "metadata": {}
    },
    {
      "cell_type": "markdown",
      "source": "**14. Escreva um programa que converta uma temperatura digitada em °C e converta para °F.**",
      "metadata": {}
    },
    {
      "cell_type": "code",
      "source": "temperatura = float(input('Informe a temperatura em °C: '))\n\ninput(f'A temperatura de {temperatura}°C corresponde a {(temperatura*1.8)+32}°F!')",
      "metadata": {},
      "execution_count": null,
      "outputs": []
    },
    {
      "cell_type": "markdown",
      "source": "---------------------------------------------------------------------------------------------------------------------------------",
      "metadata": {}
    },
    {
      "cell_type": "markdown",
      "source": "#### Exercício 15: Aluguel de Carros",
      "metadata": {}
    },
    {
      "cell_type": "markdown",
      "source": "**15. Escreva um programa que pergunte a quantidade de Km percorridos por um carro alugado e a quantidade de dias pelos quais ele foi alugado. Calcule o preço a pagar, sabendo que o carro custa R$60,00 por dia e R$0,15 por Km rodado.**",
      "metadata": {}
    },
    {
      "cell_type": "code",
      "source": "dias = int(input('Quantos dias alugados? '))\nkm = int(input('Quantos Km rodados? '))\n\nprint(f'O total a pagar é de R${(dias*60)+(km*0.15):.2f}!')",
      "metadata": {},
      "execution_count": null,
      "outputs": []
    },
    {
      "cell_type": "markdown",
      "source": "---------------------------------------------------------------------------------------------------------------------------------",
      "metadata": {}
    }
  ]
}