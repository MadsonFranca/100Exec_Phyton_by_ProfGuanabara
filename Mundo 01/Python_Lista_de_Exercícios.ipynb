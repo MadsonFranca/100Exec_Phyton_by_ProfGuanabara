{
  "metadata": {
    "language_info": {
      "codemirror_mode": {
        "name": "python",
        "version": 3
      },
      "file_extension": ".py",
      "mimetype": "text/x-python",
      "name": "python",
      "nbconvert_exporter": "python",
      "pygments_lexer": "ipython3",
      "version": "3.8"
    },
    "kernelspec": {
      "name": "python",
      "display_name": "Pyolite",
      "language": "python"
    }
  },
  "nbformat_minor": 4,
  "nbformat": 4,
  "cells": [
    {
      "cell_type": "markdown",
      "source": "# PYTHON",
      "metadata": {}
    },
    {
      "cell_type": "markdown",
      "source": "## MUNDO 01",
      "metadata": {}
    },
    {
      "cell_type": "markdown",
      "source": "Exercícios disponíveis na [Playlist Exercícios Python by Prof Gustavo Guanabara do Canal  Curso em Video](https://www.youtube.com/playlist?list=PLHz_AreHm4dm6wYOIW20Nyg12TAjmMGT-) , desenvolvidos por mim para aprendizado da Linguagem de Programação Python.",
      "metadata": {}
    },
    {
      "cell_type": "markdown",
      "source": "---------------------------------------------------------------------------------------------------------------------------------",
      "metadata": {}
    },
    {
      "cell_type": "markdown",
      "source": "### PYTHON: LISTA DE EXERCÍCIOS",
      "metadata": {}
    },
    {
      "cell_type": "markdown",
      "source": "---------------------------------------------------------------------------------------------------------------------------------",
      "metadata": {}
    },
    {
      "cell_type": "markdown",
      "source": "#### PRIMEIROS PASSOS NO PYTHON",
      "metadata": {}
    },
    {
      "cell_type": "markdown",
      "source": "---------------------------------------------------------------------------------------------------------------------------------",
      "metadata": {}
    },
    {
      "cell_type": "markdown",
      "source": "#### Exercício 01: Hello World",
      "metadata": {}
    },
    {
      "cell_type": "markdown",
      "source": "**1. Crie um programa que escreva \"Olá, Mundo!\" na tela.**",
      "metadata": {}
    },
    {
      "cell_type": "markdown",
      "source": "---------------------------------------------------------------------------------------------------------------------------------\n",
      "metadata": {}
    },
    {
      "cell_type": "markdown",
      "source": "#### Exercício 02: Respondendo ao Usuário",
      "metadata": {}
    },
    {
      "cell_type": "markdown",
      "source": "**2. Faça um programa que leia o nome de uma pessoa e mostre uma mensagem de boas-vindas.**\n",
      "metadata": {}
    },
    {
      "cell_type": "markdown",
      "source": "---------------------------------------------------------------------------------------------------------------------------------",
      "metadata": {}
    },
    {
      "cell_type": "markdown",
      "source": "#### OPERADORES ARITMÉTICOS",
      "metadata": {}
    },
    {
      "cell_type": "markdown",
      "source": "---------------------------------------------------------------------------------------------------------------------------------",
      "metadata": {}
    },
    {
      "cell_type": "markdown",
      "source": "#### Exercício  03: Somando 2 Números",
      "metadata": {}
    },
    {
      "cell_type": "markdown",
      "source": "**3. Crie um programa que leia dois números e mostre a soma entre ele.**",
      "metadata": {}
    },
    {
      "cell_type": "markdown",
      "source": "---------------------------------------------------------------------------------------------------------------------------------",
      "metadata": {}
    },
    {
      "cell_type": "markdown",
      "source": "#### Exercício  04: Dissecando um Variável",
      "metadata": {}
    },
    {
      "cell_type": "markdown",
      "source": "**4. Faça um programa que leia algo pelo teclado e mostre na tela o seu tipo primitivo e todas as informações possivieis sobre ele.**",
      "metadata": {}
    },
    {
      "cell_type": "markdown",
      "source": "---------------------------------------------------------------------------------------------------------------------------------",
      "metadata": {}
    },
    {
      "cell_type": "markdown",
      "source": "#### Exercício  05: Antecessor e Sucessor ",
      "metadata": {}
    },
    {
      "cell_type": "markdown",
      "source": "**5. Faça um programa que leia um número inteiro e mostre na tela o seu  sucessor e antecessor.**",
      "metadata": {}
    },
    {
      "cell_type": "markdown",
      "source": "---------------------------------------------------------------------------------------------------------------------------------",
      "metadata": {}
    },
    {
      "cell_type": "markdown",
      "source": "#### Exercício 06: Dobro, Triplo e Raiz Quadrada",
      "metadata": {}
    },
    {
      "cell_type": "markdown",
      "source": "**6. Crie um algoritmo que leia um número e mostre o seu dobro, triplo e raiz quadrada.**",
      "metadata": {}
    },
    {
      "cell_type": "markdown",
      "source": "--------------------------------------------------------------------------------------------------------------------------------",
      "metadata": {}
    },
    {
      "cell_type": "markdown",
      "source": "#### Exercício  07: Média Aritmética",
      "metadata": {}
    },
    {
      "cell_type": "markdown",
      "source": "**7. Desenvolva um programa que leia as duas notas de um aluno, calcule e mostre a sua média.**",
      "metadata": {}
    },
    {
      "cell_type": "markdown",
      "source": "---------------------------------------------------------------------------------------------------------------------------------",
      "metadata": {}
    },
    {
      "cell_type": "markdown",
      "source": "#### Exercício  08: Conversor de Medidas",
      "metadata": {}
    },
    {
      "cell_type": "markdown",
      "source": "**8. Escreva um programa que leia um valor em metros e o exiba convertido em centímetros e milímetros.**",
      "metadata": {}
    },
    {
      "cell_type": "markdown",
      "source": "---------------------------------------------------------------------------------------------------------------------------------",
      "metadata": {}
    },
    {
      "cell_type": "markdown",
      "source": "#### Exercício  09: Tabuada\n",
      "metadata": {}
    },
    {
      "cell_type": "markdown",
      "source": "**9. Faça um programa que leia um número inteiro qualquer e mostre na tela a sua tabuada.**",
      "metadata": {}
    },
    {
      "cell_type": "markdown",
      "source": "---------------------------------------------------------------------------------------------------------------------------------",
      "metadata": {}
    },
    {
      "cell_type": "markdown",
      "source": "#### Exercício  10: Conversor de Moedas",
      "metadata": {}
    },
    {
      "cell_type": "markdown",
      "source": "**10. Crie um programa que leia quanto dinheiro uma pessoa tem na carteira e mostre quantos dólares ela pode comprar.**",
      "metadata": {}
    },
    {
      "cell_type": "markdown",
      "source": "---------------------------------------------------------------------------------------------------------------------------------",
      "metadata": {}
    },
    {
      "cell_type": "markdown",
      "source": "#### Exercício  11: Pintando Parede",
      "metadata": {}
    },
    {
      "cell_type": "markdown",
      "source": "**11. Faça um programa que leia a largura e a altura de uma parede em metros, calcula-se a sua área e a quantidade de tinta necessária para pintá-la. Sabendo que cada litro de tinta pinta um área de 2m.**",
      "metadata": {}
    },
    {
      "cell_type": "markdown",
      "source": "---------------------------------------------------------------------------------------------------------------------------------",
      "metadata": {}
    },
    {
      "cell_type": "markdown",
      "source": "#### Exercício 12: Calculando Desconto",
      "metadata": {}
    },
    {
      "cell_type": "markdown",
      "source": "**12. Faça um programa que leia a largura e a altura de uma parede em metros, calcula-se a sua área e a quantidade de tinta necessária para pintá-la. Sabendo que cada litro de tinta pinta um área de 2m.**",
      "metadata": {}
    },
    {
      "cell_type": "markdown",
      "source": "---------------------------------------------------------------------------------------------------------------------------------",
      "metadata": {}
    },
    {
      "cell_type": "markdown",
      "source": "#### Exercício 13: Reajuste Salarial",
      "metadata": {}
    },
    {
      "cell_type": "markdown",
      "source": "**13. Faça um algoritmo que leia o salário de um funcionário e mostre seu novo salário com 15% de aumento.**",
      "metadata": {}
    },
    {
      "cell_type": "markdown",
      "source": "---------------------------------------------------------------------------------------------------------------------------------",
      "metadata": {}
    },
    {
      "cell_type": "markdown",
      "source": "#### Exercício 14: Conversor de Temperaturas",
      "metadata": {}
    },
    {
      "cell_type": "markdown",
      "source": "**14. Escreva um programa que converta uma temperatura digitada em °C e converta para °F.**",
      "metadata": {}
    },
    {
      "cell_type": "markdown",
      "source": "---------------------------------------------------------------------------------------------------------------------------------",
      "metadata": {}
    },
    {
      "cell_type": "markdown",
      "source": "#### Exercício 15: Aluguel de Carros",
      "metadata": {}
    },
    {
      "cell_type": "markdown",
      "source": "**15. Escreva um programa que pergunte a quantidade de Km percorridos por um carro alugado e a quantidade de dias pelos quais ele foi alugado. Calcule o preço a pagar, sabendo que o carro custa R$0,15 por Km rodado.**",
      "metadata": {}
    },
    {
      "cell_type": "markdown",
      "source": "---------------------------------------------------------------------------------------------------------------------------------",
      "metadata": {}
    },
    {
      "cell_type": "markdown",
      "source": "#### Utilizando Módulos/Bibliotecas",
      "metadata": {}
    },
    {
      "cell_type": "markdown",
      "source": "---------------------------------------------------------------------------------------------------------------------------------",
      "metadata": {}
    },
    {
      "cell_type": "markdown",
      "source": "#### Exercício 16: Quebrando um Número",
      "metadata": {}
    },
    {
      "cell_type": "markdown",
      "source": "**16. Crie um programa que leia um número real qualquer pelo teclado e mostre na tela a sua porção inteira.**",
      "metadata": {}
    },
    {
      "cell_type": "markdown",
      "source": "---------------------------------------------------------------------------------------------------------------------------------",
      "metadata": {}
    },
    {
      "cell_type": "markdown",
      "source": "#### Exercício 17: Catetos e Hipotenusa",
      "metadata": {}
    },
    {
      "cell_type": "markdown",
      "source": "**17. Faça um programa que leia o comprimento do cateto oposta e do cateto adjacente de um triângulo retângulo, calcule e mostre o comprimento da hipotenusa.**",
      "metadata": {}
    },
    {
      "cell_type": "markdown",
      "source": "---------------------------------------------------------------------------------------------------------------------------------",
      "metadata": {}
    },
    {
      "cell_type": "markdown",
      "source": "#### Exercício 18: Seno, Cosseno e Tangente",
      "metadata": {}
    },
    {
      "cell_type": "markdown",
      "source": "**18. Faça um programa que leia um ângulo qualquer e mostre na tela o valor do Seno, Cosseno e Tangente desse ângulo.**",
      "metadata": {}
    },
    {
      "cell_type": "markdown",
      "source": "---------------------------------------------------------------------------------------------------------------------------------",
      "metadata": {}
    },
    {
      "cell_type": "markdown",
      "source": "#### Exercício 19: Sorteando um Item na Lista",
      "metadata": {}
    },
    {
      "cell_type": "markdown",
      "source": "**19. Um professor quer sortear um dos seus quatro alunos para apagar o quadro. Faça um programa que ajude ele, lendo o nome deles e escrevendo o nome da escolhido.**",
      "metadata": {}
    },
    {
      "cell_type": "markdown",
      "source": "---------------------------------------------------------------------------------------------------------------------------------",
      "metadata": {}
    },
    {
      "cell_type": "markdown",
      "source": "#### Exercício 20: Sorteando uma ordem na lista",
      "metadata": {}
    },
    {
      "cell_type": "markdown",
      "source": "**20. O mesmo professor do desafio anterior quer sortear a ordem de apresentação de trabalhos dos alunos. Faça um programa que leia o nome dos quatros alunos e mostre a ordem sorteada.**",
      "metadata": {}
    },
    {
      "cell_type": "markdown",
      "source": "---------------------------------------------------------------------------------------------------------------------------------",
      "metadata": {}
    },
    {
      "cell_type": "markdown",
      "source": "#### Exercício 21: Tocando um MP3",
      "metadata": {}
    },
    {
      "cell_type": "markdown",
      "source": "**21. Faça um programa em python que abra e reproduza o áudio de um arquivo MP3.**",
      "metadata": {}
    },
    {
      "cell_type": "markdown",
      "source": "--------------------------------------------------------------------------------------------------------------------------------",
      "metadata": {}
    }
  ]
}