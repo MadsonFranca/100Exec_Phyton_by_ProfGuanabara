{
  "metadata": {
    "language_info": {
      "codemirror_mode": {
        "name": "python",
        "version": 3
      },
      "file_extension": ".py",
      "mimetype": "text/x-python",
      "name": "python",
      "nbconvert_exporter": "python",
      "pygments_lexer": "ipython3",
      "version": "3.8"
    },
    "kernelspec": {
      "name": "python",
      "display_name": "Pyolite",
      "language": "python"
    }
  },
  "nbformat_minor": 4,
  "nbformat": 4,
  "cells": [
    {
      "cell_type": "markdown",
      "source": "# PYTHON",
      "metadata": {}
    },
    {
      "cell_type": "markdown",
      "source": "## MUNDO 01",
      "metadata": {}
    },
    {
      "cell_type": "markdown",
      "source": "Exercícios disponíveis na [Playlist Exercícios Python by Prof Gustavo Guanabara do Canal  Curso em Video](https://www.youtube.com/playlist?list=PLHz_AreHm4dm6wYOIW20Nyg12TAjmMGT-) , desenvolvidos por mim para aprendizado da Linguagem de Programação Python.",
      "metadata": {}
    },
    {
      "cell_type": "markdown",
      "source": "---------------------------------------------------------------------------------------------------------------------------------",
      "metadata": {}
    },
    {
      "cell_type": "markdown",
      "source": "### Utilizando Módulos/Bibliotecas",
      "metadata": {}
    },
    {
      "cell_type": "markdown",
      "source": "---------------------------------------------------------------------------------------------------------------------------------",
      "metadata": {}
    },
    {
      "cell_type": "markdown",
      "source": "#### Exercício 16: Quebrando um Número",
      "metadata": {}
    },
    {
      "cell_type": "markdown",
      "source": "**16. Crie um programa que leia um número real qualquer pelo teclado e mostre na tela a sua porção inteira.**",
      "metadata": {}
    },
    {
      "cell_type": "code",
      "source": "from math import floor\nvalor = float(input('Digite um valor: '))\n\nprint(f'O valor digitado foi {valor} e a sua porção inteira {floor(valor)}')",
      "metadata": {},
      "execution_count": null,
      "outputs": []
    },
    {
      "cell_type": "markdown",
      "source": "---------------------------------------------------------------------------------------------------------------------------------",
      "metadata": {}
    },
    {
      "cell_type": "markdown",
      "source": "#### Exercício 17: Catetos e Hipotenusa",
      "metadata": {}
    },
    {
      "cell_type": "markdown",
      "source": "**17. Faça um programa que leia o comprimento do cateto oposta e do cateto adjacente de um triângulo retângulo, calcule e mostre o comprimento da hipotenusa.**",
      "metadata": {}
    },
    {
      "cell_type": "code",
      "source": "import math\n\nCateto_Oposto = float(input('Comprimento do cateto oposto: '))\nCateto_Adjacente = float(input('Comprimento do cateto adjacente: '))\nHipotenusa = math.hypot(Cateto_Adjacente, Cateto_Oposto)\n\nprint(f'A hipotenusa vai medir {Hipotenusa:.2f}')",
      "metadata": {},
      "execution_count": null,
      "outputs": []
    },
    {
      "cell_type": "markdown",
      "source": "---------------------------------------------------------------------------------------------------------------------------------",
      "metadata": {}
    },
    {
      "cell_type": "markdown",
      "source": "#### Exercício 18: Seno, Cosseno e Tangente",
      "metadata": {}
    },
    {
      "cell_type": "markdown",
      "source": "**18. Faça um programa que leia um ângulo qualquer e mostre na tela o valor do Seno, Cosseno e Tangente desse ângulo.**",
      "metadata": {}
    },
    {
      "cell_type": "code",
      "source": "import math\nangulo = float(input('Digite o ângulo que você deseja: '))\nseno = math.sin(math.radians(angulo))\ncosseno = math.cos(math.radians(angulo))\ntangente = math.tan(math.radians(angulo))\n\nprint(f'O ângulo de {angulo} tem o SENO de {seno:.2f} \\nO ângulo de {angulo} tem o COSSENO de {cosseno:.2f} \\nO ângulo de {angulo} tem a TANGENTE de {tangente:.2f}')",
      "metadata": {},
      "execution_count": null,
      "outputs": []
    },
    {
      "cell_type": "markdown",
      "source": "---------------------------------------------------------------------------------------------------------------------------------",
      "metadata": {}
    },
    {
      "cell_type": "markdown",
      "source": "#### Exercício 19: Sorteando um Item na Lista",
      "metadata": {}
    },
    {
      "cell_type": "markdown",
      "source": "**19. Um professor quer sortear um dos seus quatro alunos para apagar o quadro. Faça um programa que ajude ele, lendo o nome deles e escrevendo o nome da escolhido.**",
      "metadata": {}
    },
    {
      "cell_type": "code",
      "source": "import random\naluno1 = str(input('Primeiro aluno: '))\naluno2 = str(input('Segundo Aluno: '))\naluno3 = str(input('Terceiro Aluno: '))\naluno4 = str(input('Quarto Aluno: '))\nlista = [aluno1, aluno2, aluno3, aluno4]\nsorteado = random.choice(lista)\n\nprint(f'O aluno escolhido foi {sorteado}.')",
      "metadata": {},
      "execution_count": null,
      "outputs": []
    },
    {
      "cell_type": "markdown",
      "source": "---------------------------------------------------------------------------------------------------------------------------------",
      "metadata": {}
    },
    {
      "cell_type": "markdown",
      "source": "#### Exercício 20: Sorteando uma ordem na lista",
      "metadata": {}
    },
    {
      "cell_type": "markdown",
      "source": "**20. O mesmo professor do desafio anterior quer sortear a ordem de apresentação de trabalhos dos alunos. Faça um programa que leia o nome dos quatros alunos e mostre a ordem sorteada.**",
      "metadata": {}
    },
    {
      "cell_type": "code",
      "source": "import random\naluno1 = str(input('Primeiro Aluno: '))\naluno2 = str(input('Segundo Aluno: '))\naluno3 = str(input('Terceiro Aluno: '))\naluno4 = str(input('Quarto Aluno: '))\nlista = [aluno1, aluno2, aluno3, aluno4]\nordem = random.shuffle(lista)\n\nprint(f'A ordem de apresentação será:\\n {lista}')",
      "metadata": {},
      "execution_count": null,
      "outputs": []
    },
    {
      "cell_type": "markdown",
      "source": "---------------------------------------------------------------------------------------------------------------------------------",
      "metadata": {}
    },
    {
      "cell_type": "markdown",
      "source": "#### Exercício 21: Tocando um MP3",
      "metadata": {}
    },
    {
      "cell_type": "markdown",
      "source": "**21. Faça um programa em python que abra e reproduza o áudio de um arquivo MP3.**",
      "metadata": {}
    },
    {
      "cell_type": "code",
      "source": "import pygame\npygame.mixer.init()\npygame.init()\n\npygame.mixer.music.load('audio.mp3')\npygame.mixer.music.play(loops=0, start=0.0)\npygame.event.wait()",
      "metadata": {},
      "execution_count": null,
      "outputs": []
    },
    {
      "cell_type": "markdown",
      "source": "---------------------------------------------------------------------------------------------------------------------------------",
      "metadata": {}
    }
  ]
}