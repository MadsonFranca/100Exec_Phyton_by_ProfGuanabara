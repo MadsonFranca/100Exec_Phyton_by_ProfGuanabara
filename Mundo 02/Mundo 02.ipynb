{
  "metadata": {
    "language_info": {
      "codemirror_mode": {
        "name": "python",
        "version": 3
      },
      "file_extension": ".py",
      "mimetype": "text/x-python",
      "name": "python",
      "nbconvert_exporter": "python",
      "pygments_lexer": "ipython3",
      "version": "3.8"
    },
    "kernelspec": {
      "name": "python",
      "display_name": "Pyolite",
      "language": "python"
    }
  },
  "nbformat_minor": 4,
  "nbformat": 4,
  "cells": [
    {
      "cell_type": "markdown",
      "source": "# PYTHON",
      "metadata": {}
    },
    {
      "cell_type": "markdown",
      "source": "## MUNDO 02",
      "metadata": {}
    },
    {
      "cell_type": "markdown",
      "source": "Exercícios disponíveis na [Playlist Exercícios Python by Prof Gustavo Guanabara do Canal  Curso em Video](https://www.youtube.com/playlist?list=PLHz_AreHm4dm6wYOIW20Nyg12TAjmMGT-) , desenvolvidos por mim para aprendizado da Linguagem de Programação Python.\n",
      "metadata": {}
    },
    {
      "cell_type": "markdown",
      "source": "---------------------------------------------------------------------------------------------------------------------------------",
      "metadata": {}
    },
    {
      "cell_type": "markdown",
      "source": "### Condições Aninhadas",
      "metadata": {}
    },
    {
      "cell_type": "markdown",
      "source": "---------------------------------------------------------------------------------------------------------------------------------",
      "metadata": {}
    },
    {
      "cell_type": "markdown",
      "source": "#### Exercício 36: Aprovando EMpréstimo",
      "metadata": {}
    },
    {
      "cell_type": "markdown",
      "source": "**36.Escreva um programa para aprovar o emprestimo bancário para a compra de uma casa. Pergunte o valor da casa, o salário do comprador e em quantos anos ele vai pagar.**\n\nObs: A prestação mensal, não pode exceder 30% do salário ou então o empréstimo será negado.",
      "metadata": {}
    },
    {
      "cell_type": "code",
      "source": "casa = float(input('Valor da casa: '))\nsalario = float(input('Salário do comprador: '))\nfinanciamento = float(input('Quantos anos de financiamento? '))\nprestacao = casa / (financiamento * 12)\npercentual = salario * 0.3\n\nif prestacao <= percentual:\n    print(f'Para pagar uma casa de R${casa:.2f} em {financiamento:.0f} a prestação será de R${prestacao:.2f}.')\n    print('Empréstimo pode ser CONCEDIDO!')\nelif  prestacao == percentual:\n    print(f'Para pagar uma casa de R${casa:.2f} em {financiamento:.0f} a prestação será de R${prestacao:.2f}.')\n    print('Você precisa melhorar as suas finanças, porém o empréstimo pode ser CONCEDIDO!')\nelse:\n    print(f'Para pagar uma casa de R${casa:.2f} em {financiamento:.0f} a prestação será de R${prestacao:.2f}.')\n    print('Você não tem recursos suficientes para quitar as prestações da casa. Então, o empréstimo NÃO pode ser CONCEDIDO!')\n",
      "metadata": {},
      "execution_count": null,
      "outputs": []
    },
    {
      "cell_type": "markdown",
      "source": "---------------------------------------------------------------------------------------------------------------------------------",
      "metadata": {}
    },
    {
      "cell_type": "markdown",
      "source": "#### Exercício 37: Conversor de Bases Numéricas",
      "metadata": {}
    },
    {
      "cell_type": "markdown",
      "source": "**37. Escreva um programa em Python que leia um número inteiro qualquer e peça para o usuário escolher qual será a base de conversão:**\n\n- 1 para Binário\n- 2 para Octal \n- 3 para Hexadecimal\n",
      "metadata": {}
    },
    {
      "cell_type": "code",
      "source": "num = int(input('Digite um número inteiro: '))\nprint('''Escolha uma das bases para conversão:\n[ 1 ] converter para BINÁRIO\n[ 2 ] converter para OCTAL\n[ 3 ] converter para HEXADECIMAL''')\n\nopcao = int(input('Sua opção: '))\n\nif opcao == 1:\n    print(f'{num} convertido para BINÁRIO é igual a {bin(num)[2:]}')\nelif opcao == 2:\n    print(f'{num} convertido para OCTAL é igual a {oct(num)[2:]}')\nelif opcao == 3:\n    print(f'{num} convertido para HEXADECIMAL é igual a {hex(num)[2:]}')\nelse:\n    print('Opcão Inválida. Tente Novamente Depois!')\n\n\n",
      "metadata": {},
      "execution_count": null,
      "outputs": []
    },
    {
      "cell_type": "markdown",
      "source": "---------------------------------------------------------------------------------------------------------------------------------",
      "metadata": {
        "tags": []
      }
    },
    {
      "cell_type": "markdown",
      "source": "#### Exercício 38: Comparando Números",
      "metadata": {}
    },
    {
      "cell_type": "markdown",
      "source": "**37. Escreva um programa que leia dois números inteiros e compare-os, mostrando na tela uma mensagem:**\n\n- O primeiro valor é maior\n- O segundo valor é maior\n- Não existe valor maior, os dois são iguais.\n",
      "metadata": {}
    },
    {
      "cell_type": "code",
      "source": "primeiro = int(input('Primeiro  número: '))\nsegundo = int(input('Segundo número: '))\n\nif primeiro > segundo:\n    print('O PRIMEIRO valor é maior!')\nelif segundo > primeiro:\n    print('O SEGUNDO valor é maior!')\nelse:\n    print('Os dois valores são IGUAIS!')",
      "metadata": {},
      "execution_count": null,
      "outputs": []
    },
    {
      "cell_type": "markdown",
      "source": "---------------------------------------------------------------------------------------------------------------------------------",
      "metadata": {}
    },
    {
      "cell_type": "markdown",
      "source": "#### Exercício 39: Alistamento Militar",
      "metadata": {}
    },
    {
      "cell_type": "markdown",
      "source": "**37. Faça um programa que leia o ano de nascimento de um jovem e informe, de acordo com sua idade , se elel ainda vai se alistar ao serviço militar, se é a hora de se alistar, ou seja, passou do tempo do alistamento. Seu programa também deverá a mostrar o tempo que falta ou que passou do prazo.**",
      "metadata": {}
    },
    {
      "cell_type": "code",
      "source": "from datetime import date\nano_nasc = int(input('Ano de nascimento: '))\nano_atual = date.today().year\nidade = ano_atual - ano_nasc\nidade_alist = 18 - idade\nidade_alist_2 = idade - 18\nano_alist = ano_nasc + 18\n\nprint(f'Quem nasceu em {ano_nasc} tem {idade} anos em {ano_atual} ')\n\nif idade < 18:\n    print(f'Ainda faltam {idade_alist} anos para o alistamento.')\n    print(f'Seu alistamento será em {ano_alist}')\nelif idade == 18:\n    print(f'Você tem que se alistar IMEDIATAMENTE!')\nelse:\n    print(f'Você ja deveria ter se alistado há {idade_alist_2} anos.')\n    print(f'Seu alistamento foi em {ano_alist}')\n",
      "metadata": {},
      "execution_count": null,
      "outputs": []
    },
    {
      "cell_type": "markdown",
      "source": "---------------------------------------------------------------------------------------------------------------------------------",
      "metadata": {}
    },
    {
      "cell_type": "markdown",
      "source": "#### Exercício 40: Média",
      "metadata": {}
    },
    {
      "cell_type": "markdown",
      "source": "**40. Crie um programa que leia duas notas de um aluno e calcule sua média, mostrando uma mensage no final de acordo com a media atingido:**\n\n- Média abaixo de 5,0: REPROVADO\n- Média entre 5,0 e 6,9: RECUPERAÇÃO\n- Média 7,0 ou superior: APROVADO",
      "metadata": {}
    },
    {
      "cell_type": "code",
      "source": "nota_1 = float(input('Primeiro nota: '))\nnota_2 = float(input('Segunda nota: '))\nmedia = (nota_1 + nota_2) / 2\n\nprint(f'Tirando {nota_1} e {nota_2}, a média do aluno é {media}!')\n\nif media <= 5:\n    print('O aluno está REPROVADO!')\nelif 5 < media <= 6.9:\n    print('O aluno está de RECUPERAÇÃO!')\nelif media >= 7:\n    print('O aluno está APROVADO!')",
      "metadata": {},
      "execution_count": null,
      "outputs": []
    },
    {
      "cell_type": "markdown",
      "source": "---------------------------------------------------------------------------------------------------------------------------------",
      "metadata": {}
    },
    {
      "cell_type": "markdown",
      "source": "#### Exercício 41: Classificando Atletas",
      "metadata": {}
    },
    {
      "cell_type": "markdown",
      "source": "**41.  A Confederação Nacional de Natação precisa de um programa que leia o ano de nascimento de um atleta e mostre sua categoria de acordo com a idade.**\n\n- Até 9 anos: MIRIM\n- Até 14 anos: INFANTIL\n- Até 19 anos: JUNIOR\n- Até 25 anos: SÊNIOR\n- Acima: MASTER",
      "metadata": {}
    },
    {
      "cell_type": "code",
      "source": "from datetime import date\nano_nasc = int(input('Ano de Nascimento: '))\nidade = date.today().year - ano_nasc\n\n\nprint(f'O atleta tem {idade} anos.')\n\nif idade <= 9:\n    print('Classificação: MIRIM!')\nelif 9 < idade <= 14:\n    print('Classificação: INFANTIL!')\nelif 14 < idade <= 19:\n    print('Classificação: JUNIOR!')\nelif 19 < idade <= 25:\n    print('Classificação: SÊNIOR!')\nelif idade > 25:\n    print('Classificação: MASTER!')\n",
      "metadata": {},
      "execution_count": null,
      "outputs": []
    },
    {
      "cell_type": "markdown",
      "source": "#### Exercício 42: Analisando Triângulos",
      "metadata": {}
    },
    {
      "cell_type": "markdown",
      "source": "**42. Refaça o DESAFIO 35 dos triângulos, acrescentando o recurso de mostrar que tipo de triâgulo  será formado:**\n\n- Equilàtero: todos os lados iguais.\n- Isósceles: dois lados iguais.\n- Escaleno: todos os lados diferentes.",
      "metadata": {}
    },
    {
      "cell_type": "code",
      "source": "primeiro = float(input('Primeiro segmento: '))\nsegundo = float(input('Segundo segmento: '))\nterceiro = float(input('Terceiro segmento: '))\n\nif primeiro < segundo + terceiro and segundo < primeiro + terceiro and terceiro < primeiro + segundo:\n    if primeiro == segundo and segundo == terceiro:\n        print('Os segmentos acima PODEM FORMAR um triângulo EQUILÁTERO!')\n    elif primeiro == segundo or segundo == terceiro or primeiro == terceiro:\n        print('Os segmentos acima PODEM FORMAR um triângulo ISÓSCELES!')\n    else:\n        print('Os segmentos acima PODEM FORMAR um triângulo ESCALENO!')\nelse:\n    print('Os segmentos acima NÃO PODEM FORMAR triângulo!')",
      "metadata": {},
      "execution_count": null,
      "outputs": []
    },
    {
      "cell_type": "markdown",
      "source": "---------------------------------------------------------------------------------------------------------------------------------",
      "metadata": {}
    },
    {
      "cell_type": "markdown",
      "source": "#### Exercício 43: Índice de Massa Corporal",
      "metadata": {}
    },
    {
      "cell_type": "markdown",
      "source": "**43. Desenvolva uma lógica que leia o peso e altura de uma pessoa, calcule seu IMC e mostre seu status , de acordo com a tabela abaixo:**\n\n- Abaixo de 18.5: Abaixo do Peso\n- Entre 18.5 e 25: Peso Ideal\n- 25 até 30: Sobrepeso\n- 30 até 40: Obesidade\n- Acima de 40: Obesidade Mórbida",
      "metadata": {}
    },
    {
      "cell_type": "code",
      "source": "peso = int(input('Qual é seu peso? (Kg) '))\naltura = float(input('Qual é a sua altura? (m) '))\nimc = peso / (altura * altura)\n\nprint(f'O IMC dessa pessoa é de {imc:.1f}')\n\nif imc < 18.5:\n    print('CUIDADO!! Você está na faixa de Abaixo do Peso!!!')\nelif 18.5 <= imc < 25:\n    print('PARABÉNS!! Você está na faixa de Peso Normal!!!')\nelif 25 <= imc < 30:\n    print('ALERTA!! Você está na faixa de Sobrepeso!!!')\nelif 30 <= imc < 40:\n    print('SINAL AMARELO!! Você está na faixa de Obesidade!!!')\nelif 40 <= imc:\n    print('PROCURE AJUDA MÉDICA!! Você está na faixa de Obesidade Mórbida!!!')",
      "metadata": {},
      "execution_count": null,
      "outputs": []
    },
    {
      "cell_type": "markdown",
      "source": "---------------------------------------------------------------------------------------------------------------------------------",
      "metadata": {}
    },
    {
      "cell_type": "markdown",
      "source": "#### Exercício 44: Gerenciador de Pagamento",
      "metadata": {}
    },
    {
      "cell_type": "markdown",
      "source": "**44. Elabore um programa que calcule o valor a ser pago por um produto, considerando s seu preço normal e condição de pagamento:**\n\n- À vista dinheiro/pix: 10% de desconto\n- À vista no cartão: 5% de desconto\n- Em até 2x no cartão: preço normal\n- 3x ou mais no cartão: 20% de juros",
      "metadata": {}
    },
    {
      "cell_type": "code",
      "source": "print(f'{\"SHOPIX\":=^40}')\n\npreco = float(input('Preço das Compras: R$'))\ndesc_din = preco - (preco * 0.1)\ndesc_cart = preco - (preco * 0.05)\njuros_cart = preco + (preco * 0.2)\n\nprint('FORMAS DE PAGAMENTO')\nprint('[ 1 ] à vista dinheiro/pix')\nprint('[ 2 ] à vista cartão de débito')\nprint('[ 3 ] 2x no cartão de crédito')\nprint('[ 4 ] 3x ou mais no cartão de crédito')\n\nopcao = int(input('Qual é a opção? '))\n\nif opcao == 1:\n    print(f'Sua compra de R${preco:.2f} realizada no Pix/Dinheiro vai custar R${desc_din:.2f} no final.')\nelif opcao == 2:\n    print(f'Sua compra de R${preco:.2f} realizada no Cartão de Débito à vista vai custar R${desc_cart:.2f} no final.')\nelif opcao == 3:\n    print(f'Sua compra será parcelada em 2x de R${(preco / 2):.2f} sem  Juros')\n    print(f'Sua compra de R${preco:.2f} realizada 2x no Cartão de Crédito vai custar R${preco:.2f} no final.')\nelif opcao == 4:\n    parcelas = int(input('Quantas parcelas? '))\n    print(f'Sua compra será parcelada em {parcelas}x de R${(preco / parcelas):.2f} com Juros')\n    print(f'Sua compra de R${preco:.2f} realizada em {parcelas}x no Cartão de Crédito vai custar R${juros_cart:.2f} no final.')\nelse:\n    print('Não conseguimos compreender o que foi digitado. Tente novamente mais tarde escolhendo as Opções de Pagamento 1, 2, 3 ou 4!!!')",
      "metadata": {},
      "execution_count": null,
      "outputs": []
    },
    {
      "cell_type": "markdown",
      "source": "---------------------------------------------------------------------------------------------------------------------------------",
      "metadata": {}
    },
    {
      "cell_type": "markdown",
      "source": "#### Exercício 45: Pedra, Papel ou Tesoura",
      "metadata": {}
    },
    {
      "cell_type": "markdown",
      "source": "**45. Crie um programa que faça o computador jogar JOKENPÔ com você.**",
      "metadata": {}
    },
    {
      "cell_type": "code",
      "source": "from time import sleep\nfrom random import randint\nprint('''Suas opções:\n[ 0 ] PEDRA\n[ 1 ] PAPEL\n[ 2 ] TESOURA''')\njogador = int(input('Qual é a sua jogada? '))\nif jogador > 2:\n    print('Opção invalida, tente novamente!')\n    jogador = int(input('Qual é a sua jogada de 0 até 2? '))\ncomputador = randint(0, 2)\njogo = ['PEDRA', 'PAPEL', 'TESOURA']\nprint('JO')\nsleep(1)\nprint('KEN')\nsleep(1)\nprint('PÔ!!!')\nprint('-=' * 15)\nprint(f'Computador jogou {jogo[computador]}')\nprint(f'Jogador jogou {jogo[jogador]}')\nprint('-=' * 15)\nif computador == jogador:\n    print('EMPATE!')\nelif jogo[computador] == 'PEDRA':\n    if jogo[jogador] == 'PAPEL':\n        print('VOCÊ VENCEU!!! :)')\n    else:\n        print('PC VENCEU :(')\nelif jogo[computador] == 'TESOURA':\n    if jogo[jogador] == 'PAPEL':\n        print('PC VENCEU :(')\n    else:\n        print('VOCÊ VENCEU!!! :)')\nelif jogo[computador] == 'TESOURA':\n    if jogo[jogador] == 'PEDRA':\n        print('VOCÊ VENCEU!!! :)')\n    else:\n        print('PC VENCEU :(')\n",
      "metadata": {},
      "execution_count": null,
      "outputs": []
    },
    {
      "cell_type": "markdown",
      "source": "---------------------------------------------------------------------------------------------------------------------------------",
      "metadata": {}
    },
    {
      "cell_type": "markdown",
      "source": "### Estruturas de Repetição For",
      "metadata": {}
    },
    {
      "cell_type": "markdown",
      "source": "---------------------------------------------------------------------------------------------------------------------------------",
      "metadata": {}
    },
    {
      "cell_type": "markdown",
      "source": "#### Exercício 46: Contagem Regressiva",
      "metadata": {}
    },
    {
      "cell_type": "markdown",
      "source": "**46. Faça um programa que mostre na tela uma contagem regressiva para o estouro de fogos de artifício, indo de 10 até 0, com uma pausa de 1 segundo entre eles.**",
      "metadata": {}
    },
    {
      "cell_type": "code",
      "source": "from time import sleep\nfor c in range(10, 0, -1):\n    print(c)\n    sleep(1)\nprint('BOOM! BOOM! POOOW!')\n",
      "metadata": {},
      "execution_count": null,
      "outputs": []
    },
    {
      "cell_type": "markdown",
      "source": "---------------------------------------------------------------------------------------------------------------------------------",
      "metadata": {}
    },
    {
      "cell_type": "markdown",
      "source": "#### Exercício 47: Contagens de Pares\n",
      "metadata": {}
    },
    {
      "cell_type": "markdown",
      "source": "**47. Crie um programa que mostre na tela todos os números pares que estão no intervalo entre 1 e 50.**",
      "metadata": {}
    },
    {
      "cell_type": "code",
      "source": "i = 0\nf = 50\npassos = 2\n\nfor c in range(i, f+1, passos):\n    print(c)",
      "metadata": {},
      "execution_count": null,
      "outputs": []
    },
    {
      "cell_type": "markdown",
      "source": "---------------------------------------------------------------------------------------------------------------------------------",
      "metadata": {}
    },
    {
      "cell_type": "markdown",
      "source": "#### Exercício 48: Soma de Números Ímpares Múltiplos de Três",
      "metadata": {}
    },
    {
      "cell_type": "markdown",
      "source": "**48. Faça um programa que calcule a soma entre todos os números que são múltiplos de três e que se encontram no intervaloo de 1 até 500.**",
      "metadata": {}
    },
    {
      "cell_type": "code",
      "source": "soma = 0\ncont = 0\nfor c in range(1, 501, 2):\n    if c% 3 == 0:\n        cont = cont + 1\n        soma = soma + c\nprint(f'A soma de todos os {cont} valores solicitados é {soma}')",
      "metadata": {},
      "execution_count": null,
      "outputs": []
    },
    {
      "cell_type": "markdown",
      "source": "---------------------------------------------------------------------------------------------------------------------------------",
      "metadata": {}
    },
    {
      "cell_type": "markdown",
      "source": "#### Exercício 49: Tabuada",
      "metadata": {}
    },
    {
      "cell_type": "markdown",
      "source": "**49. Refaça o DESAFIO 009, mostrando a tabuada de um número que o usuário escolher, só que agora utilizando um laço for.**",
      "metadata": {}
    },
    {
      "cell_type": "code",
      "source": "mult = int(input('Digite o número que seja o  multiplicador da tabuada: '))\nfor c in range(0, 11):\n    print(f'{mult} x {c}  = {mult * c}')",
      "metadata": {},
      "execution_count": null,
      "outputs": []
    },
    {
      "cell_type": "markdown",
      "source": "---------------------------------------------------------------------------------------------------------------------------------",
      "metadata": {}
    },
    {
      "cell_type": "markdown",
      "source": "#### Exercício 50: Soma dos Pares",
      "metadata": {}
    },
    {
      "cell_type": "markdown",
      "source": "**50. Desenvolva um programa que leia seis números inteiros e mostre a soma apenas daqueles que forem pares. Se o valor digitado for ímpar, desconsidere-o.**",
      "metadata": {}
    },
    {
      "cell_type": "code",
      "source": "soma = 0\nfor c in range(1, 7):\n    n = int(input('Digite um número: '))\n    if n % 2 == 0:\n        soma = soma + n\nprint(f'A soma desses valores é igual a {soma}')",
      "metadata": {},
      "execution_count": null,
      "outputs": []
    },
    {
      "cell_type": "markdown",
      "source": "---------------------------------------------------------------------------------------------------------------------------------",
      "metadata": {}
    },
    {
      "cell_type": "markdown",
      "source": "#### Exercício 51: Progressão Aritmética",
      "metadata": {}
    },
    {
      "cell_type": "markdown",
      "source": "**51. Desenvolva um programa que leia o primeiro termo e a razão de uma PA. No final, mostre os 10 primeiros termos dessa progressão.**",
      "metadata": {}
    },
    {
      "cell_type": "code",
      "source": "print('='*30)\nprint(' '*5, '10 TERMOS DE UMA PA', ' '*5)\nprint('='*30)\ntermo = int(input('Primeiro termo: '))\nrazao = int(input('Razão: '))\n\nfor c in range(termo, termo + 10 * razao, razao):\n    print(c, end=' - ')\nprint('ACABOOU!!!')",
      "metadata": {},
      "execution_count": null,
      "outputs": []
    },
    {
      "cell_type": "markdown",
      "source": "---------------------------------------------------------------------------------------------------------------------------------",
      "metadata": {}
    },
    {
      "cell_type": "markdown",
      "source": "#### Exercício 52: Números Primos",
      "metadata": {}
    },
    {
      "cell_type": "markdown",
      "source": "**52. Faça um programa que leia um número inteiro e diga se ele é ou não um número primo.**",
      "metadata": {}
    },
    {
      "cell_type": "code",
      "source": "num = int(input(\"Digite um número: \"))\ntotal = 0\n\nfor c in range(1, num + 1):\n    print(f'{c}')\n    if num % c == 0:\n        total += 1\n\nprint(f\"O número {num} foi divisível {total} vezes!\")\n\nif total == 2:\n    print(\"O número é PRIMO\")\nelse:\n    print(\"O número NÃO é PRIMO\")",
      "metadata": {},
      "execution_count": null,
      "outputs": []
    },
    {
      "cell_type": "markdown",
      "source": "---------------------------------------------------------------------------------------------------------------------------------",
      "metadata": {}
    },
    {
      "cell_type": "markdown",
      "source": "#### Exercício 53: Detector de Palindromo",
      "metadata": {}
    },
    {
      "cell_type": "markdown",
      "source": "**53. Crie um programa que leia uma frase qualquer e diga se ela é um palíndromo, desconsiderando os espaços.**",
      "metadata": {}
    },
    {
      "cell_type": "code",
      "source": "frase = str(input(\"Digite um frase: \")).upper().replace(\" \", \"\")\n\nprint(f'A inversão de {frase} é {frase[::-1]}')\n\nif frase == frase[::-1]:\n    print(\"A frase é um PALÍNDROMO!!!\")\nelse:\n    print(\"A frase NÃO é um PALÍNDROMO!!!\")\n",
      "metadata": {},
      "execution_count": null,
      "outputs": []
    },
    {
      "cell_type": "markdown",
      "source": "---------------------------------------------------------------------------------------------------------------------------------",
      "metadata": {}
    },
    {
      "cell_type": "markdown",
      "source": "#### Exercício 54: Grupo de Maioridade",
      "metadata": {}
    },
    {
      "cell_type": "markdown",
      "source": "**54. Crie um programa que leia o ano de nascimento de sete pessoas. No final, mostre quantas pessoas ainda não atingiram a maioridade e quantas já são maiores.**",
      "metadata": {}
    },
    {
      "cell_type": "code",
      "source": "from datetime import date\nmenores = 0\nmaiores = 0\nfor c in range(1, 7 + 1):\n    nasc = int(input(f'Em que ano a {c} pessoa nasceu? '))\n    if date.today().year - nasc >= 18:\n        maiores += 1\n    else:\n       menores+= 1\n\nprint(f'Ao todo tivemos {maiores} pessoas maiores de idade.')\nprint(f'E também tivemos {menores} pessoas menores de idade.')",
      "metadata": {},
      "execution_count": null,
      "outputs": []
    },
    {
      "cell_type": "markdown",
      "source": "---------------------------------------------------------------------------------------------------------------------------------",
      "metadata": {}
    },
    {
      "cell_type": "markdown",
      "source": "#### Exercício 55: Maior e Menor da Sequência",
      "metadata": {}
    },
    {
      "cell_type": "markdown",
      "source": "**55. Faça um programa que leia o peso de 5 pessoas. No final, mostre qual foi o maior e o menor peso lidos.**",
      "metadata": {}
    },
    {
      "cell_type": "code",
      "source": "maior = 0\nmenor = 0\nfor c in range(1, 6):\n    peso = float(input(f'Peso da {c} pessoa: '))\n    if c == 1:\n        maior = c\n        menor = c\n    else:\n        if c > maior:\n            maior = c\n        if c < menor:\n            menor = c\nprint(f'O maior peso lido foi de {maior}Kg')\nprint(f'O menor peso lido foi de {menor}Kg')",
      "metadata": {},
      "execution_count": null,
      "outputs": []
    },
    {
      "cell_type": "markdown",
      "source": "---------------------------------------------------------------------------------------------------------------------------------",
      "metadata": {}
    },
    {
      "cell_type": "markdown",
      "source": "#### Exercício 56: Analisador Completo",
      "metadata": {}
    },
    {
      "cell_type": "markdown",
      "source": "**56. Desenvolva um programa que leia o nome, idade e sexo de 4 pessoas. No final do programa, mostre: a média de idade do grupo, qual é o nome do homem mais velho e quantas mulheres têm menos de 20 anos.**",
      "metadata": {}
    },
    {
      "cell_type": "code",
      "source": "soma_idade = 0\nmedia_idade = 0\nmaior_idade_homem = 0\nnome_velho = \" \"\ntotal_mulher = 0\nfor c in range(1, 5):\n    print(f'-'*10, c, 'PESSOA', '-'*10)\n    nome = str(input('Nome: ')).strip().upper()\n    idade = int(input('Idade: '))\n    sexo = str(input('Sexo [M/F]: ')).strip().upper()\n    soma_idade += idade\n    if c == 1 and sexo in \"M\":\n        maior_idade_homem = idade\n        nome_velho = nome\n    if sexo in 'M' and idade > maior_idade_homem:\n        maior_idade_homem = idade\n        nome_velho = nome\n    if sexo in \"F\" and idade < 20:\n        total_mulher += 1\n\nmedia_idade = soma_idade / 4\n\nprint(f'A média de idade do grupo é de {media_idade} anos.')\nprint(f'O homem mais velho tem {maior_idade_homem} anos e se chama {nome_velho}.')\nprint(f'Ao todo são {total_mulher} mulheres com menos de 20 anos.')\n\n",
      "metadata": {},
      "execution_count": null,
      "outputs": []
    },
    {
      "cell_type": "markdown",
      "source": "---------------------------------------------------------------------------------------------------------------------------------",
      "metadata": {}
    },
    {
      "cell_type": "markdown",
      "source": "### Estruturas de Repetição While\n\n",
      "metadata": {}
    },
    {
      "cell_type": "markdown",
      "source": "---------------------------------------------------------------------------------------------------------------------------------",
      "metadata": {}
    },
    {
      "cell_type": "markdown",
      "source": "#### Exercício 57: Validação de Dados\n",
      "metadata": {}
    },
    {
      "cell_type": "markdown",
      "source": "**57. Faça um programa que leia o sexo de uma pessoa, mas só aceite os valores \"M\" ou \"F\". Caso esteja errado, peça a digitação novamente até ter um valor correto.**",
      "metadata": {}
    },
    {
      "cell_type": "code",
      "source": "sexo = str(input('Informe seu sexo: [M/F] ')).strip().upper()[0]\n\nwhile sexo not in 'MmFf':\n    sexo = str(input('Dados inválidos. Por favor, informe seu sexo: ')).strip().upper()[0]\nif sexo == \"M\":\n    print('Sexo M registrado com sucesso!')\nelse:\n    print('Sexo F registrado com sucesso!')",
      "metadata": {},
      "execution_count": null,
      "outputs": []
    },
    {
      "cell_type": "markdown",
      "source": "---------------------------------------------------------------------------------------------------------------------------------",
      "metadata": {}
    },
    {
      "cell_type": "markdown",
      "source": "#### Exercício 58: Jogo de Advinhação  ",
      "metadata": {}
    },
    {
      "cell_type": "markdown",
      "source": "**58. Melhore o jogo do Desafio 028 onde o computador vai \"pensar\" em um número entre 0 a 10. Só que agora o jogador vai tentar advinhar até acertar, mostrando no final quantos palpites foram necessários para vencer.**",
      "metadata": {}
    },
    {
      "cell_type": "code",
      "source": "from random import randint\n\nprint('''Sou um computador ...\nAcabei de pensar em um número entre 0 e 10.\nSerá que você consegue advinhar qual foi? ''')\n\npc_escolha = randint(0, 10)\npalpite = int(input('Qual é o seu palpite? '))\nprint(f'{pc_escolha}')\ntentativa = 1\n\nwhile palpite != pc_escolha:\n    if palpite > pc_escolha:\n        print('Menos... Tente mais uma vez.')\n    elif palpite < pc_escolha:\n        print('Mais... Tente mais uma vez.')\n\n    palpite = int(input('Qual é o seu palpite? '))\n    tentativa += 1\n\nprint(f'Acertou com {tentativa} tentativas. Parabéns!!!')\n",
      "metadata": {},
      "execution_count": null,
      "outputs": []
    },
    {
      "cell_type": "markdown",
      "source": "---------------------------------------------------------------------------------------------------------------------------------",
      "metadata": {}
    },
    {
      "cell_type": "markdown",
      "source": "#### Exercício 59: Criando um Menu de Opções ",
      "metadata": {}
    },
    {
      "cell_type": "markdown",
      "source": "**59. Crie um programa que leia dois valores e mostre um menu na tela:**\n- [1] Somar\n- [2] Multiplicar\n- [3] Maior\n- [4] Novos Números\n- [5] Sair do Programa\n- Seu programa deverá realizar a operação solicitada em cada caso.",
      "metadata": {}
    },
    {
      "cell_type": "code",
      "source": "from time import sleep\n\n\nprimeiro = int(input('Primeiro valor: '))\nsegundo = int(input('Segundo valor: '))\nopcao = int(input('''[1] Somar\n[2] Multiplicar\n[3] Maior\n[4] Novos Números\n[5] Sair do Programa\nQual é a sua opção? '''))\n\nwhile opcao != 5:\n    if opcao == 1:\n        print(f'A soma entre {primeiro} + {segundo} é {primeiro + segundo}')\n    elif opcao == 2:\n        print(f'O resultado de {primeiro} x {segundo} é {primeiro * segundo}')\n    elif opcao == 3:\n        if primeiro > segundo:\n            print(f'Entre {primeiro} e {segundo} o maior valor é {primeiro} ')\n        elif segundo > primeiro:\n            print(f'Entre {primeiro} e {segundo} o maior valor é {segundo}')\n        elif primeiro == segundo:\n            print(f'Entre {primeiro} e {segundo} ambos os valores são equivalentes.')\n    elif opcao == 4:\n        print('Informe os números novamente: ')\n        primeiro = int(input('Primeiro valor: '))\n        segundo = int(input('Segundo valor: '))\n    elif opcao > 5:\n        print('Opção Inválida. Tente Novamente!')\n\n    opcao = int(input('''[1] Somar\n    [2] Multiplicar\n    [3] Maior\n    [4] Novos Números\n    [5] Sair do Programa\n    Qual é a sua opção? '''))\n\nprint('Finalizando...'), sleep(3)\nprint('Fim do Programa! Volte sempre!')\n\n",
      "metadata": {},
      "execution_count": null,
      "outputs": []
    },
    {
      "cell_type": "markdown",
      "source": "---------------------------------------------------------------------------------------------------------------------------------",
      "metadata": {}
    },
    {
      "cell_type": "markdown",
      "source": "#### Exercício 60: Cálculo do Fatorial",
      "metadata": {}
    },
    {
      "cell_type": "markdown",
      "source": "**60. Faça um programa que leia um número qualquer e mostre o seu fatorial.**",
      "metadata": {}
    },
    {
      "cell_type": "code",
      "source": "num = int(input('Digite um número para calcular seu Fatorial: '))\nprint(f'Calculando {num}! = ', end='')\nfat = 1\nfor c in range(num, 0, -1):\n    print(f' {c} x ', end='')\n    fat *= c\nprint(f' = {fat}')",
      "metadata": {},
      "execution_count": null,
      "outputs": []
    },
    {
      "cell_type": "markdown",
      "source": "---------------------------------------------------------------------------------------------------------------------------------",
      "metadata": {}
    },
    {
      "cell_type": "markdown",
      "source": "#### Exercício 61: Progressão Aritmética",
      "metadata": {}
    },
    {
      "cell_type": "markdown",
      "source": "**61. Refaça o Desafio 51, lendo o primeiro termo e a razão de uma PA, mostrando os 10 primeiros termos da progressão aritmética usando a estrutura while.**",
      "metadata": {}
    },
    {
      "cell_type": "code",
      "source": "print('Gerador de PA')\nprint('-=' * 10)\ntermo = int(input('Primeriro Termo: '))\nrazao = int(input('Razão da PA: '))\n\ncalculo = termo + razao * 9\nc = termo\n\nwhile c < calculo:\n    print(c, end=' - ')\n    c += razao\nprint('FIM')",
      "metadata": {},
      "execution_count": null,
      "outputs": []
    },
    {
      "cell_type": "markdown",
      "source": "---------------------------------------------------------------------------------------------------------------------------------",
      "metadata": {}
    },
    {
      "cell_type": "markdown",
      "source": "#### Exercício 62: Super Progressão Aritmética",
      "metadata": {}
    },
    {
      "cell_type": "markdown",
      "source": "**62. Refaça o Desafio 51, lendo o primeiro termo e a razão de uma PA, mostrando os 10 primeiros termos da progressão aritmética usando a estrutura while.**",
      "metadata": {}
    },
    {
      "cell_type": "code",
      "source": "print('Gerador de PA')\nprint('-=' * 10)\ntermo = int(input('Primeriro Termo: '))\nrazao = int(input('Razão da PA: '))\n\ncalculo = termo + razao * 9\nc = termo\n\nwhile c < calculo:\n    print(c, end=' - ')\n    c += razao\nprint('FIM')",
      "metadata": {},
      "execution_count": null,
      "outputs": []
    },
    {
      "cell_type": "markdown",
      "source": "---------------------------------------------------------------------------------------------------------------------------------",
      "metadata": {}
    },
    {
      "cell_type": "markdown",
      "source": "#### Exercício 63: Sequência de Fibonacci",
      "metadata": {}
    },
    {
      "cell_type": "markdown",
      "source": "**63. Escreva um programa que leia um número N inteiro qualquer e mostre na tela os N primeiros elementos de uma Sequência de Fibonacci.**\n\n- Ex: 0 - 1 - 1 - 2 - 3 - 5 - 8",
      "metadata": {}
    },
    {
      "cell_type": "code",
      "source": "print('-'*30)\nprint('Sequência de Fibonacci')\nprint('-'*30)\nNant = 1\nFibonacci = 0\n\ntermo = int(input('Quantos termos você quer mostrar? '))\n\nwhile termo != 0:\n    print('{}'.format(Fibonacci), end=' - ')\n    Fibonacci = Fibonacci + Nant\n    Nant = Fibonacci - Nant\n    termo -= 1\nprint('FIM')",
      "metadata": {},
      "execution_count": null,
      "outputs": []
    },
    {
      "cell_type": "markdown",
      "source": "---------------------------------------------------------------------------------------------------------------------------------",
      "metadata": {}
    },
    {
      "cell_type": "markdown",
      "source": "#### Exercício 64: Tratando Vários Valores",
      "metadata": {}
    },
    {
      "cell_type": "markdown",
      "source": "**64. Crie um programa que leia vários números inteiros pelo teclado. O programa só vai parar quando o usuário digitar o valor 999, que é a condição de parada. No final, mostre quantos números foram digitados e qual foi a soma entre eles (desconsiderando o flag).**",
      "metadata": {}
    },
    {
      "cell_type": "code",
      "source": "num = cont = soma = 0\nnum = int(input('Digite um número [999 para parar]: '))\n\nwhile num != 999:\n    soma += num\n    cont += 1\n    num = int(input('Digite um número [999 para parar]: '))\nprint(f'Você digitou {cont} números e a soma entre eles foi de {soma}.')\n",
      "metadata": {},
      "execution_count": null,
      "outputs": []
    },
    {
      "cell_type": "markdown",
      "source": "---------------------------------------------------------------------------------------------------------------------------------",
      "metadata": {}
    },
    {
      "cell_type": "markdown",
      "source": "#### Exercício 65: Maior e Menor Valores",
      "metadata": {}
    },
    {
      "cell_type": "markdown",
      "source": "**65. Crie um programa que leia vários números inteiros pelo teclado. No final da execução, mostre a média entre todos os valores e qual foi o maior e o menor valores lidos. O programa deve perguntar ao usuário se ele quer ou não continuar a digitar os valores.**",
      "metadata": {}
    },
    {
      "cell_type": "code",
      "source": "continuar = \"S\"\nsoma = cont = media = maior = menor = 0\n\nwhile continuar in 'Ss':\n    num = int(input('Digite um número: '))\n    cont += 1\n    soma += num\n    if cont ==1:\n        maior = menor = num\n    else:\n        if num > maior:\n            maior = num\n        if num < menor:\n            menor = num\n    continuar = str(input('Quer continuar? [S/N] ')).strip()[0].upper()\n\nmedia = soma / num\nprint(f'''Você digitou {cont} e a média foi {media}\nO maior valor foi {maior} e o menor foi {menor}''')",
      "metadata": {},
      "execution_count": null,
      "outputs": []
    },
    {
      "cell_type": "markdown",
      "source": "---------------------------------------------------------------------------------------------------------------------------------",
      "metadata": {}
    },
    {
      "cell_type": "markdown",
      "source": "### Interrompendo Estruturas de Repetição While",
      "metadata": {}
    },
    {
      "cell_type": "markdown",
      "source": "---------------------------------------------------------------------------------------------------------------------------------",
      "metadata": {}
    },
    {
      "cell_type": "markdown",
      "source": "#### Exercício 66: Vários números com flag",
      "metadata": {}
    },
    {
      "cell_type": "markdown",
      "source": "**66. Crie um programa que leia números inteiros pelo teclado. O programa só vai parar quando o usuário digitar o valor 999, que é a condição de parada. No final, mostre quantos números foram digitados e qual a soma entre elas (desconsiderando o flag)**",
      "metadata": {}
    },
    {
      "cell_type": "code",
      "source": "n = soma = cont =  0\n\nwhile True:\n    n = int(input(\"Digite um valor (999 para parar): \"))\n    if n == 999:\n        break\n    cont += 1\n    soma += n\n\nprint(f'A soma dos {cont} valores foi {soma}!')",
      "metadata": {},
      "execution_count": null,
      "outputs": []
    },
    {
      "cell_type": "markdown",
      "source": "---------------------------------------------------------------------------------------------------------------------------------",
      "metadata": {}
    },
    {
      "cell_type": "markdown",
      "source": "#### Exercício 67: Tabuada",
      "metadata": {}
    },
    {
      "cell_type": "markdown",
      "source": "**67. Faça um programa que mostre a tabuada de vários números,um de cada vez, para cada valor digitado pelo usuário. O programa será interrompido quando o número solicitado for negativo.**",
      "metadata": {}
    },
    {
      "cell_type": "code",
      "source": "while True:\n    n = int(input('Quer ver a tabuada de qual valor? '))\n    print('-' * 40)\n    if n < 0:\n        break\n    for cont in range(0, 10):\n        print(f'{n} x {cont} = {n * cont}')\n    print('-' * 40)\n\nprint('Programa de Tabuada ENCERRADA! Volte sempre :) ')",
      "metadata": {},
      "execution_count": null,
      "outputs": []
    },
    {
      "cell_type": "markdown",
      "source": "---------------------------------------------------------------------------------------------------------------------------------",
      "metadata": {}
    },
    {
      "cell_type": "markdown",
      "source": "#### Exercício 68: Jogo Par ou Ímpar",
      "metadata": {}
    },
    {
      "cell_type": "markdown",
      "source": "**68. Faça um programa que jogue par ou ímpar com o computador. O jogo só será interrompido quando perder, mostrando o total de vitórias consecutivas que ele conquistou no final do jogo.**",
      "metadata": {}
    },
    {
      "cell_type": "code",
      "source": "print('-=' * 20)\nprint('VAMOS JOGAR PAR OU ÍMPAR!!!')\nprint('-=' * 20)\n\nfrom random import randint\ncont = soma = 0\n\nwhile True:\n    computador = randint(0, 10)\n    jogador = int(input('Digite um número: '))\n    escolha = str(input('Escolha PAR ou ÍMPAR [P/I]  ')).strip().upper()[0]\n    soma = jogador + computador\n    tipo = 'PAR'if soma % 2 == 0 else 'ÍMPAR'\n    print('-='*20)\n    print(f'Você jogou {jogador} e o computador {computador}. Total de {soma} DEU {tipo}')\n\n    if escolha in 'Pp':\n        if soma % 2 == 0:\n            print('Você VENCEU!!! \\nVamos jogar novamente...')\n            print('-='*20)\n            cont += 1\n        else:\n            print('Você PERDEU!!!')\n            print('-=' * 20)\n            print(f'Sua quantidade de vitória é/são {cont}')\n            print('-=' * 20)\n            break\n    elif escolha in 'Ii':\n        if soma % 2 == 1:\n            print('Você VENCEU!!! \\nVamos jogar novamente...')\n            print('-=' * 20)\n        else:\n            print('Você PERDEU!!!')\n            print('-=' * 20)\n            print(f'Sua quantidade de vitória é/são {cont} ')\n            print('-=' * 20)\n            break\n",
      "metadata": {},
      "execution_count": null,
      "outputs": []
    },
    {
      "cell_type": "markdown",
      "source": "---------------------------------------------------------------------------------------------------------------------------------",
      "metadata": {}
    },
    {
      "cell_type": "markdown",
      "source": "#### Exercício 69: Análise de dados do grupo ",
      "metadata": {}
    },
    {
      "cell_type": "markdown",
      "source": "**69.  Crie um programa que leia a idade e o sexo de várias pessoas. A cada pessoa cadastrada, o programa deverá perguntar se o usuário quer ou não continuar. No final, mostre:**\n\n- Quantas pessoas tem mais de 18 anos.\n- Quantos homens foram cadastrados.\n- Quantas mulheres tem menos de 20 anos.",
      "metadata": {}
    },
    {
      "cell_type": "code",
      "source": "cont18 = conth = contm20 = 0\n\nwhile True:\n    print('-'*30)\n    print('\\t CADASTRE UMA PESSOA')\n    print('-'*30)\n    idade = int(input('Idade: '))\n    sexo = str(input('Sexo: [M/F] ')).upper().strip()[0]\n    if sexo != 'M' and sexo != 'F':\n        print('SEXO ÍNVALIDO. Tende novamente.')\n    else:\n        if sexo == 'M' or 'F' and idade >= 18:\n            cont18 += 1\n        if sexo == 'M':\n            conth += 1\n        if sexo == 'F' and idade <= 20:\n            contm20 += 1\n    escolha = ' '\n    while escolha not in 'NS':\n        escolha = str(input('Deseja  continuar? [S/N] ')).upper().strip()[0]\n    if escolha == 'N':\n        break\nprint(f'Total de pessoa(s) com mais de 18 anos: {cont18}\\nAo todo temos {conth} homem(ns) cadastrado(s)\\nE temos {contm20} mulher(es) com menos de 20 anos')\n",
      "metadata": {},
      "execution_count": null,
      "outputs": []
    },
    {
      "cell_type": "markdown",
      "source": "---------------------------------------------------------------------------------------------------------------------------------",
      "metadata": {}
    },
    {
      "cell_type": "markdown",
      "source": "#### Exercício 70: Estatíatica em Produtos \n",
      "metadata": {}
    },
    {
      "cell_type": "markdown",
      "source": "**70. Crie um programa que leia o nome e o preço de vários produtos. O programa deverá perguntar se o usuário vai continuar ou não. No final, mostre:**\n\n- Qual é o total gasto na compra.\n- Quantos produtos custam mais de R$1000.\n- Qual é o nome do produto mais barato.",
      "metadata": {}
    },
    {
      "cell_type": "code",
      "source": "print('-==-'*5)\nprint('\\t SHOPIX')\nprint('-==-'*5)\n\ncp = total = maior = menor = 0\n\nwhile True:\n    cp += 1\n    produto = str(input(f'Digite o nome do {cp}° produto: ')).lower()\n    preco = float(input(f'Digite o preço da(o) {produto}: R$'))\n    q = str(input('Quer continuar? [S/N]: ')).upper().strip()[0]\n    if cp == 1:\n        menor = preco\n        pb = produto\n    else:\n        if preco < menor:\n            menor = preco\n            pb = produto\n    if q != 'S' and q != 'N':\n        while q != 'S' and q != 'N':\n            q = str(input('Tente novamente: Quer continuar? [S/N]: ')).upper().strip()[0]\n    total += preco\n    if preco >= 1000:\n        maior += 1\n    if q == 'N':\n        break\nprint('-'*10 ,' FIM DO PROGRAMA ', '-'*10)\nif cp > 1:\n    print(f'O total a ser pago é de R${total:.2f}.')\n    print(f'Existem {maior} produtos que custam mais de 1000 reais.')\n    if menor < 2:\n        print(f'O produto mais barato foi o(a) {pb}, que custa R${menor:.2f} real.')\n    elif menor > 1:\n        print(f'O produto mais barato foi o(a) {pb}, que custa R${menor:.2f} reais.')\nelif cp < 2:\n    print(f'O total a ser pago é de R${total:.2f}.')\n    print(f'Existe {maior} produto que custa mais de 1000 reais.')\n    if menor < 2:\n        print(f'O produto mais barato foi o(a) {pb}, que custa R${menor:.2f} real.')\n    elif menor > 1:\n        print(f'O produto mais barato foi o(a) {pb}, que custa R${menor:.2f} reais.')\n",
      "metadata": {},
      "execution_count": null,
      "outputs": []
    },
    {
      "cell_type": "markdown",
      "source": "---------------------------------------------------------------------------------------------------------------------------------",
      "metadata": {}
    },
    {
      "cell_type": "markdown",
      "source": "#### Exercício 71: Simulador de Caixa Eletrônico",
      "metadata": {}
    },
    {
      "cell_type": "markdown",
      "source": "**71. Crie um programa que simule o funcionamento de um caixa eletrônico. No início, pergunte ao usuário qual será o valor a ser sacado (número inteiro) e o programa vai informar quantas cédulas de cada valor serão entregues.**\n\n- Obs: considere que o caixa possui cédulas de R$ 50, R$ 20, R$ 10 e R$ 1.",
      "metadata": {}
    },
    {
      "cell_type": "code",
      "source": "print('-'*30)\nprint('\\t BANCO DO BRASA')\nprint('-'*30)\n\nd = int(input('Qual valor você quer sacar? R$'))\ncont_cinquenta = cont_vinte = cont_dez = cont_um = 0\n\nwhile True:\n    while d - 50 >= 0:\n        d -= 50\n        cont_cinquenta += 1\n    while d - 20 >= 0:\n        d -= 20\n        cont_vinte += 1\n    while d - 10 >= 0:\n        d -= 10\n        cont_dez += 1\n    while d - 1 >= 0:\n        d -= 1\n        cont_um += 1\n    break\nif cont_cinquenta != 0:\n    print(f'Total de {cont_cinquenta} cédulas de R$50')\nif cont_vinte != 0:\n    print(f'Total de {cont_vinte} cédula(s) de R$20')\nif cont_dez != 0:\n    print(f'Total de {cont_dez} cédula(s) de R$10')\nif cont_um != 0:\n    print(f'Total de {cont_um} moeda(s) de R$1')\nprint('-'*30)\nprint('Volte sempre ao BANCO DO BRASA! Tenha um bom dia!')",
      "metadata": {},
      "execution_count": null,
      "outputs": []
    },
    {
      "cell_type": "markdown",
      "source": "---------------------------------------------------------------------------------------------------------------------------------",
      "metadata": {}
    }
  ]
}